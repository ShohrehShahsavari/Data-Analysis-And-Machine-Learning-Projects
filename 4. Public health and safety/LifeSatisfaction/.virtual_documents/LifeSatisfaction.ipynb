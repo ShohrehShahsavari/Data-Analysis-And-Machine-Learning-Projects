import numpy as np
import pandas as pd
import matplotlib.pyplot as plt


df_oecd= pd.read_csv('E:/Python Projects/shohreh/Shohreh_GitHub_Repository/Data-Analysis-And-Machine-Learning-Projects/4. Public health and safety/LifeSatisfaction/oecd_bli_2015.csv', thousands=',')


df_oecd.head(2)


life_sat_total = df_oecd[df_oecd["INEQUALITY"]=="TOT"]
life_sat_total = life_sat_total.pivot(index="Country", columns="Indicator", values="Value")
life_sat_total.info()


df_gdp_capital= pd.read_csv('E:/Python Projects/shohreh/Shohreh_GitHub_Repository/Data-Analysis-And-Machine-Learning-Projects/4. Public health and safety/LifeSatisfaction/gdp_per_capita.csv', delimiter= '\t', encoding= 'latin1', thousands=',')


df_gdp_capital.rename(columns={"2015" : 'GDP per capital (USD)'}, inplace= True)
df_gdp_capital.set_index('Country')


full_country_stats = pd.merge(left=life_sat_total, right=df_gdp_capital,left_index=True, right_index=True)


def prepare_country_stats(oecd_bli, gdp_per_capita):
    oecd_bli = oecd_bli[oecd_bli["INEQUALITY"]=="TOT"]
    oecd_bli = oecd_bli.pivot(index="Country", columns="Indicator", values="Value")
    gdp_per_capita.rename(columns={"2015": "GDP per capita"}, inplace=True)
    gdp_per_capita.set_index("Country", inplace=True)
    full_country_stats = pd.merge(left=oecd_bli, right=gdp_per_capita,
                                  left_index=True, right_index=True)
    full_country_stats.sort_values(by="GDP per capita", inplace=True)
    remove_indices = [0, 1, 6, 8, 33, 34, 35]
    keep_indices = list(set(range(36)) - set(remove_indices))
    return full_country_stats[["GDP per capita", 'Life satisfaction']].iloc[keep_indices]
full_country_stats.head()



