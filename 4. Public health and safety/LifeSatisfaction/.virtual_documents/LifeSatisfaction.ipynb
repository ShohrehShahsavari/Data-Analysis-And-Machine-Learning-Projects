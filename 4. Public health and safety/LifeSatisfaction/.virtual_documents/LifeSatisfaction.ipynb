import numpy as np
import pandas as pd
import matplotlib.pyplot as plt
import seaborn as sns
from  sklearn.linear_model import LinearRegression
from sklearn.neighbors import KNeighborsRegressor


df_oecd= pd.read_csv('E:/Python Projects/shohreh/Shohreh_GitHub_Repository/Data-Analysis-And-Machine-Learning-Projects/4. Public health and safety/LifeSatisfaction/oecd_bli_2015.csv', thousands=',')


df_oecd.head(2)


life_sat_total = df_oecd[df_oecd["INEQUALITY"]=="TOT"]
life_sat_total = life_sat_total.pivot(index="Country", columns="Indicator", values="Value")
life_sat_total.head(2)


df_gdp_capital= pd.read_csv('E:/Python Projects/shohreh/Shohreh_GitHub_Repository/Data-Analysis-And-Machine-Learning-Projects/4. Public health and safety/LifeSatisfaction/gdp_per_capita.csv', delimiter= '\t', encoding= 'latin1', thousands=',')


df_gdp_capital.rename(columns={"2015" : 'GDP per capital (USD)'}, inplace= True)
df_gdp_capital.set_index('Country')
df_gdp_capital.head(2)


full_country_stats = pd.merge(left=life_sat_total, right=df_gdp_capital, on= 'Country')


df = pd.DataFrame({
    'Country': full_country_stats['Country'],
    'Life satisfaction': full_country_stats['Life satisfaction'],
    'GDP per capital (USD)': full_country_stats['GDP per capital (USD)']
})

# other option
#df = full_country_stats[['Country', 'Life satisfaction', 'GDP per capital (USD)']]


plt.figure(figsize=(8,6))
sns.scatterplot(data= df, x= 'GDP per capital (USD)', y= 'Life satisfaction', color= 'blue')
sns.regplot(data= df, x= 'GDP per capital (USD)', y= 'Life satisfaction', scatter= False, color= 'red')
plt.xlabel('GDP per capital (USD)')
plt.ylabel('Life satisfaction')
plt.show()


df.plot(kind= 'scatter', x= 'GDP per capital (USD)', y= 'Life satisfaction')
plt.show()


X= np.c_[df['GDP per capital (USD)']]
y= df['Life satisfaction']

model1= LinearRegression()
model1.fit(X,y)
New_X= [[22587]]
model1.predict(New_X)
model1.score(X, y)


model2= KNeighborsRegressor(n_neighbors=3)
model2.fit(X,y)
New_X= [[22587]]
model2.predict(New_X)
model2.score(X, y)





import tensorflow as tf
import tensorflow.keras as keras


X= np.c_[df['GDP per capital (USD)']]
y= df['Life satisfaction']


input_layer= keras.layers.Input(shape=(1,))
hidden_layers= keras.layers.Dense(units=5, activation= 'relu')(input_layer)
output_layer= keras.layers.Dense(units=1, activation= None, use_bias=False)(hidden_layers)

model=keras.Model(input_layer, output_layer)
model.compile(optimizer= 'sgd', loss= 'mse')

model.fit(X,y)
print(model.summary())


loss= model.evaluate(X,y)
print(f" Loss: {loss}")

y_pred=model.predict(X)
print(" Predict values:\n", y_pred[:5])
print(" True values:\n", y[:5])


keras.utils.plot_model(model, show_shapes= True, show_layer_names= True, dpi=60)



