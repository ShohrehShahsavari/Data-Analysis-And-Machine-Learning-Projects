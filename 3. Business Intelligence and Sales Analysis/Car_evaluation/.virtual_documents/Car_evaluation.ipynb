


import numpy as np
import pandas as pd
import matplotlib.pyplot as plt
from sklearn.preprocessing import LabelEncoder
from sklearn.model_selection import train_test_split
from sklearn.tree import DecisionTreeClassifier
from sklearn.ensemble import RandomForestClassifier
from sklearn.metrics import f1_score, confusion_matrix, classification_report





df= pd.read_csv('E:/Python Projects/shohreh/Shohreh_GitHub_Repository/Data-Analysis-And-Machine-Learning-Projects/3. Business Intelligence and Sales Analysis/Car_evaluation/car_evaluation.csv', header= None)


df.info()


df.head()





# change columns name with appropriate name
# df= df.rename(columns={0: 'buying', 1: 'maint', 2: 'doors', 3: 'persons', 4: 'lug_boot', 5: 'safety', 6: 'class'})
df.columns= ['buying', 'maint', 'doors', 'persons', 'lug_boot', 'safety', 'class']


df.columns


pd.DataFrame(df.nunique(), columns=['Number of unique values'])


def valuecounts(df, column):
    return pd.DataFrame(df[column].value_counts(), columns=['count'])


for col in df.columns:
    print(valuecounts(df, col))
    print(15*'*')





valuecounts(df,'buying')


encoders = {}
for col in df.columns:
    if df[col].dtype == 'object':
        le= LabelEncoder()
        df[col] = le.fit_transform(df[col])
        encoders[col] = le


X= df.drop(['class'], axis=1)
y=df['class']
#X.shape, y.shape
X_train, X_test, y_train, y_test= train_test_split(X, y, train_size= 0.7, random_state= 42)


model= DecisionTreeClassifier()
model.fit(X_train, y_train)
y_pred= model.predict(X_test)
print(f'Confusion Matrix: {confusion_matrix(y_test, y_pred)}')
print(f'f1_score: {f1_score(y_test, y_pred, average= "micro")}')
print(f'Classifiction_report: {classification_report(y_test, y_pred)}')



