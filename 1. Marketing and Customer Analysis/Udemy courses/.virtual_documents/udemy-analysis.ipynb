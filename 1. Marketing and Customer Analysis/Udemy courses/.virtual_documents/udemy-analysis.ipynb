


























import pandas as pd
import numpy as np
import matplotlib.pyplot as plt
import seaborn as sns
import warnings 
warnings.filterwarnings('ignore')





df = pd.read_csv('Udemy-Dataset.csv')


df.head()








# genegral information about dataset
df.info()








df.columns


df.duplicated().sum()


df.isna().sum()





df.describe().T











# check duplicats
df.duplicated().sum()


# drop duplicate rows
df.drop_duplicates(inplace = True)





# changing published_timestamp dtype to datetime
df['published_timestamp'] = pd.to_datetime(df['published_timestamp'])


df.head(1)





df['Date'] = df['published_timestamp'].dt.date


# changint Date & Time dtype to datetime
df['Date'] = pd.to_datetime(df['Date'])
df['Date'] = df['Date'].dt.year


# published timestamp





# Convert numeric values to int and mark 'Free' courses
df['price'] = pd.to_numeric(df['price'], errors='coerce')  # Convert to numeric, coerce errors to NaN


df.isna().sum()


# filling NaN values of price column to 0 indicating that course is free of charge
df['price'] = df['price'].fillna(0)


# check if correction has been reflected on df
df[df['is_paid'] == False].head(5)





def extract_numeric_value(value):
    """
    Extracts numeric values from a string representing duration in hours and/or minutes.

    Parameters:
    value (str): A string representing duration, e.g., '1.5 hours', '30 mins', '2 hours 45 mins'.

    Returns:
    int or float or None: The numeric value extracted from the input string. If the input string 
    contains 'hour' or 'hours', the value is converted to minutes and returned as an integer. 
    If the input string contains 'min' or 'mins', the value is returned as an integer. 
    If the input string does not contain any relevant information, None is returned.

    Example:
    >>> extract_numeric_value('1.5 hours')
    90
    >>> extract_numeric_value('30 mins')
    30
    >>> extract_numeric_value('2 hours 45 mins')
    165
    >>> extract_numeric_value('invalid string')
    None
    """
    try:
        if 'hour' in value or 'hours' in value:
            # Extract numeric value, convert to numeric type, and multiply by 60 to convert hours to minutes
            return pd.to_numeric(value.split()[0]) * 60
        elif 'min' in value or 'mins' in value:
            # Extract numeric value and convert to numeric type
            return pd.to_numeric(value.split()[0])
        else:
            return None  
    except Exception as e:
        print(f"Error: {e}")
        return None


df['content_duration'] = df['content_duration'].apply(extract_numeric_value)


# check if previous function has been affected correctly
df.iloc[3672]


# check if previous function has been affected correctly
df.iloc[4]





df = df.rename(columns= {
    'course_title' : 'title',
    'num_subscribers' : 'subscribes',
    'num_reviews' : 'reviews',
    'num_lectures' : 'lectures',
    'content_duration' : 'duration_minutes',
    'Date' : 'publish_date'
})





# drop unuseable columns
df.drop(columns= ['published_timestamp', 'course_id'], inplace = True)





# re-oder them
df = df[['title', 'subject', 'level', 'duration_minutes', 'lectures', 'price', 'is_paid', 'subscribes', 'reviews', 'publish_date']].reset_index(drop = True)


df.head(2)











# create new datafram of free courses
free = df[(df['is_paid'] == False)].reset_index()
free.head(2)





# create new dataframe of paid courses
paid = df[(df['is_paid'] == True)].reset_index()
paid.head(2)





top10_selling = df.sort_values(by='subscribes', ascending = False).head(10)
top10_selling


plt.figure(figsize=(8, 5))
sns.barplot(data=top10_selling, x='title', y='subscribes', palette='rainbow')
plt.title("Top 10 Course (Based On Subsribes)")
plt.xlabel("Course Name")
plt.xticks(rotation=45)
plt.show()





courses_in_subject = df['subject'].value_counts().to_frame().reset_index()
courses_in_subject


plt.figure(figsize=(8, 5))
sns.barplot(data = courses_in_subject, x='subject', y='count', palette='rainbow')
plt.title("Number Of Courses In Each Subject")
plt.xticks(rotation=45)
plt.show()





courses_in_level = df['level'].value_counts().to_frame().reset_index()
courses_in_level


plt.figure(figsize=(8, 5))
sns.barplot(data = courses_in_level, x='level', y='count', palette='rainbow')
plt.title("Number Of Courses In Each Level")
plt.xticks(rotation=45)
plt.show()





paid_unpaid_count = df['is_paid'].value_counts().to_frame().reset_index()
paid_unpaid_count


plt.figure(figsize=(8, 5))
sns.barplot(data = paid_unpaid_count, x='is_paid', y='count', palette='rainbow')
plt.title("Number Of Paid/Unpaid Courses")
plt.xticks(rotation=45)
plt.show()





level_per_subj = df.groupby(['subject'])['level'].value_counts().to_frame()
level_per_subj


# Reset index to make 'subject' and 'level' as columns
df_reset = level_per_subj.reset_index()

plt.figure(figsize=(8,6))
sns.barplot(x='count', y='subject', hue='level', data=df_reset, palette='rainbow')
plt.title('Count of Courses by Subject and Level', fontsize=12)
plt.xlabel('Count', fontsize=15)
plt.ylabel('Subject', fontsize=15)
plt.legend(title='Level', title_fontsize='12')
plt.show()





courses_per_year = df.groupby('publish_date')['publish_date'].size().to_frame()
courses_per_year


plt.figure(figsize=(8, 5))
sns.barplot(data=courses_per_year, x=courses_per_year.index, y='publish_date', palette='rainbow')
plt.title("Top 10 Course (Based On Subsribes)")
plt.xlabel("Course Name")
plt.xticks(rotation=45)
plt.show()





plt.figure(figsize=(8, 5))
sns.boxplot(data=df, x='level', y='price', palette='rainbow')
plt.title('Course Prices by Level')
plt.xlabel('Level')
plt.ylabel('Price')
plt.xticks(rotation=45)
plt.show()





plt.figure(figsize=(8, 5))
sns.barplot(data=df, x='level', y='lectures', estimator=np.mean, ci=None, palette='rainbow')
plt.title('Average Number of Lectures by Level')
plt.xlabel('Level')
plt.ylabel('Average Number of Lectures')
plt.xticks(rotation=45)
plt.show()





def hist_chart(col):
    plt.figure(figsize=(8, 5))
    sns.histplot(data=df, x=col, kde=True, color='darkblue', bins='auto')
    plt.title('Distribution of Course Durations')
    plt.xlabel('Duration (minutes)')
    plt.ylabel('Frequency')
    plt.show()



hist_chart('duration_minutes')


hist_chart('lectures')


hist_chart('price')


hist_chart('subscribes')



