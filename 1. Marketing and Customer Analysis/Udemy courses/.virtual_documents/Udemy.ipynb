











import numpy as np
import pandas as pd
import matplotlib.pyplot as plt
import re





df=pd.read_csv('E:/Python Projects/shohreh/Shohreh_GitHub_Repository/Data-Analysis-And-Machine-Learning-Projects/2. Marketing and Customer Analysis/Udemy courses/Udemy-Dataset.csv')





df.info()


df.head(2)


df.isna().sum()


df.duplicated().sum()


df.describe().T








df[df.duplicated()]








pd.DataFrame(df.nunique(), columns=['Number of unique Values'])





def value_counts(col, top_n=10):
    """
    Returns the top N unique values and their counts for a specified column.

    Parameters:
    - col (str): The column name for which to calculate value counts.
    - top_n (int): The number of top unique values to return (default is 10).

    Returns:
    - pd.DataFrame: A DataFrame containing the top N unique values and their counts.
    """
    # Calculate value counts and convert to DataFrame
    value_counts_df = pd.DataFrame(df[col].value_counts().head(top_n))
    
    # Rename columns for better readability
    value_counts_df.columns = ['Count']
    
    # Reset index to make the unique values a column
    value_counts_df.reset_index(inplace=True)
    value_counts_df.rename(columns={'index': col}, inplace=True)
    
    return value_counts_df





df['published_timestamp']=pd.to_datetime(df['published_timestamp'])


df.info()





df['content_duration']


# First try
#for i in range (0,df.shape[0]-1):
 #   if df['content_duration'].str.contains('mins')[i] == True:
  #      df['content_duration']=df['content_duration'].str.replace(' mins', '')
   # elif df['content_duration'].str.contains("hour")[i] == True:
    #    df['content_duration']=df['content_duration'].str.replace(r" hour.*", '')


## second try:
# Ensure the 'content_duration' column is treated as a string
df['content_duration']=df['content_duration'].astype(str)

for i, row in df.iterrows():
    # Extract hours
    hours = re.search(r"(\d+)\s*hours?", row['content_duration'])
    hours = float(hours.group(1)) if hours else 0

    # Extract minute
    mins = re.search(r"(\d+)\s*mins?", row['content_duration'])
    mins = float(mins.group(1)) if mins else 0

    # Calculate total duration in hours
    total_duration= (hours*60) + mins

    # Update the DataFrame
    df.at[i,'content_duration']= round(total_duration)


## Modify code for content_duration column:

# Function to convert duration to total minutes
def convert_to_minutes(duration):
    # Extract hours
    hours = re.search(r"(\d+)\s*hours?", duration, re.IGNORECASE)
    hours = float(hours.group(1)) if hours else 0

    # Extract minutes
    mins = re.search(r"(\d+)\s*mins?", duration, re.IGNORECASE)
    mins = float(mins.group(1)) if mins else 0

    # Convert to total minutes
    return int((hours * 60) + mins)

# Apply the function to the column
df['content_duration'] = df['content_duration'].apply(convert_to_minutes)




df['content_duration']





value_counts('price')


# replacing Free with 0
df['price']=df['price'].replace('Free',0)





def change_type(df,dtype,columns):
    for col in columns:
        df[col]=df[col].astype(dtype)


change_type(df, 'float', [['price' ]])


df.info()





value_counts('level')


level_mapping={'All Levels' : 0, 'Beginner Level': 1, 'Intermediate Level': 2, 'Expert Level': 3}
df['level']= df['level'].map(level_mapping)





df.columns=['course_id','title', 'is_paid', 'price', 'subscribers','reviews', 'lectures', 'level', 'content_duration_mins','published_time', 'subject']





df.drop(columns=['course_id'])
