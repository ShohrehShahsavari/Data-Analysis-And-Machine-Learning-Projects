{
 "cells": [
  {
   "cell_type": "markdown",
   "id": "0fdd191d-c0ac-4e6b-bf50-6cd321f28f4b",
   "metadata": {},
   "source": [
    "![](61_Best-Udemy-Alternatives-For-Instructors-ONLINE-COURSE-MARKETPLACES.jpg)"
   ]
  },
  {
   "cell_type": "markdown",
   "id": "4bc155d4-cdc0-4302-8773-6970b6f23a1b",
   "metadata": {},
   "source": [
    "# 1. Introduction"
   ]
  },
  {
   "cell_type": "markdown",
   "id": "1aaa19a6-d16e-424a-a20b-acf272d41674",
   "metadata": {},
   "source": [
    "## 1.1 Udemy courses Overview\n",
    "The Udemy Dataset provides a detailed snapshot of online courses available on Udemy, one of the leading platforms for online learning and teaching. This dataset is a valuable resource for analyzing trends in online education, understanding course popularity, and identifying factors that contribute to the success of courses. It contains information about various courses across multiple subjects, including Musical Instruments, Business Finance, Graphic Design, and Web Development.\r\n",
    "\r\n",
    "Key Features of the Datase\n",
    "t:\r\n",
    "Course Details: The dataset includes essential information about each course, such as its title, pricing, number of subscribers, reviews, and lectures.\r\n",
    "\r\n",
    "Course Levels: Courses are categorized by difficulty levels, such as Beginner, Intermediate, All Levels, and Expert Level, making it easier to analyze the demand for different skill levels.\r\n",
    "\r\n",
    "Content Duration: The dataset provides the total duration of course content, which can be used to study the relationship between course length and subscriber engagement.\r\n",
    "\r\n",
    "Publication Timestamp: Each course includes a timestamp indicating when it was published, allowing for trend analysis over time.\r\n",
    "\r\n",
    "Subject Categories: Courses are grouped into subjects, enabling analysis of which topics are most popular or in demand.\r\n",
    "\r\n",
    "Datas\n",
    "et Structure:\r\n",
    "The dataset is structured in a tabular format with the following columns:\r\n",
    "\r\n",
    "course_id: A unique identifier for each course.\r\n",
    "\r\n",
    "course_title: The title of the course.\r\n",
    "\r\n",
    "is_paid: Indicates whether the course is paid (TRUE) or free (FALSE).\r\n",
    "\r\n",
    "price: The price of the course in USD (if paid).\r\n",
    "\r\n",
    "num_subscribers: The number of subscribers enrolled in the course.\r\n",
    "\r\n",
    "num_reviews: The number of reviews received for the course.\r\n",
    "\r\n",
    "num_lectures: The number of lectures included in the course.\r\n",
    "\r\n",
    "level: The difficulty level of the course (e.g., Beginner, Intermediate, All Levels).\r\n",
    "\r\n",
    "content_duration: The total duration of the course content (e.g., 1.5 hours).\r\n",
    "\r\n",
    "published_timestamp: The timestamp when the course was published (format: YYYY-MM-DDTHH:MM:SSZ).\r\n",
    "\r\n",
    "subject: The category or subject of the course (e.g., Musiable date format.\r\n",
    "\r\n",
    "Ens\n",
    "uring consistent data types across all columns.\r\n",
    "\r\n",
    "Potential Applications:\r\n",
    "Educators: Use the dataset to understand what types of courses are in demand and tailor their offerings accordingly.\r\n",
    "\r\n",
    "Marketers: Analyze pricing strategies and promotional efforts to maximize course enrollments.\r\n",
    "\r\n",
    "Data Analysts: Perform exploratory data analysis (EDA) to uncover trends and insights in the online education market.\r\n",
    "\r\n",
    "Researcheroses. Users should review Udemy's terms of service for any restrictions on data usage.\r\n",
    "\r\n",
    "This overview provides a high-level understanding of the Udemy Dataset, its structure, and its potential applications. It serves as a starting point for anyone looking to explore or analyze the dataset for insights into the online education market.\r\n",
    "\r\n",
    "t."
   ]
  },
  {
   "cell_type": "markdown",
   "id": "5ee3a165-41db-4af3-ae0b-243505262a8f",
   "metadata": {},
   "source": [
    "# 2. Python Required Libraries"
   ]
  },
  {
   "cell_type": "code",
   "execution_count": null,
   "id": "32ee0c5a-d9cd-4c12-a219-c696b946a3ee",
   "metadata": {},
   "outputs": [],
   "source": [
    "import numpy as np\n",
    "import pandas as pd\n",
    "import matplotlib.pyplot as plt\n",
    "import re"
   ]
  },
  {
   "cell_type": "markdown",
   "id": "e3442c1f-32a3-44bf-90ed-08922723aead",
   "metadata": {},
   "source": [
    "# 3. Import Dataset"
   ]
  },
  {
   "cell_type": "code",
   "execution_count": null,
   "id": "048223d0-59f0-4ed5-a027-e1fbb1a05c94",
   "metadata": {},
   "outputs": [],
   "source": [
    "df=pd.read_csv('E:/Python Projects/shohreh/Shohreh_GitHub_Repository/Data-Analysis-And-Machine-Learning-Projects/2. Marketing and Customer Analysis/Udemy courses/Udemy-Dataset.csv')"
   ]
  },
  {
   "cell_type": "markdown",
   "id": "0abc530a-e22a-4b5b-9a33-543a8c526504",
   "metadata": {},
   "source": [
    "# 4. First Organization"
   ]
  },
  {
   "cell_type": "code",
   "execution_count": null,
   "id": "07bf2767-620b-4843-99f3-778d5f919c59",
   "metadata": {},
   "outputs": [],
   "source": [
    "df.info()"
   ]
  },
  {
   "cell_type": "code",
   "execution_count": null,
   "id": "c0c88df4-71f9-4439-bc3d-496caa393408",
   "metadata": {},
   "outputs": [],
   "source": [
    "df.head(2)"
   ]
  },
  {
   "cell_type": "code",
   "execution_count": null,
   "id": "bd50ac50-07ea-4500-9585-effddafbf610",
   "metadata": {},
   "outputs": [],
   "source": [
    "df.isna().sum()"
   ]
  },
  {
   "cell_type": "code",
   "execution_count": null,
   "id": "84c5ee7c-d538-4a17-8bbb-32d61478a7d5",
   "metadata": {},
   "outputs": [],
   "source": [
    "df.duplicated().sum()"
   ]
  },
  {
   "cell_type": "code",
   "execution_count": null,
   "id": "b39c2903-55c1-4798-a0d8-d3221ba85647",
   "metadata": {},
   "outputs": [],
   "source": [
    "df.describe().T"
   ]
  },
  {
   "cell_type": "markdown",
   "id": "b637f8e2-c257-44a9-a9cb-4fd164604ea8",
   "metadata": {},
   "source": [
    "# 5. Data cleaning"
   ]
  },
  {
   "cell_type": "markdown",
   "id": "56f8d173-076d-49eb-822b-1af0ef2ee894",
   "metadata": {},
   "source": [
    "## 5.1 duplicated values"
   ]
  },
  {
   "cell_type": "code",
   "execution_count": null,
   "id": "ecb60827-4152-4247-9946-7f471fb10886",
   "metadata": {},
   "outputs": [],
   "source": [
    "df[df.duplicated()]"
   ]
  },
  {
   "cell_type": "markdown",
   "id": "f555851e-1f49-4d1b-988f-cd18a1af3218",
   "metadata": {},
   "source": [
    "### After checking for duplicates, no duplicate records were found in the dataset."
   ]
  },
  {
   "cell_type": "markdown",
   "id": "1cd1b304-bcc9-4f3c-9d88-998d69dbbfe0",
   "metadata": {},
   "source": [
    "## 5.2 Unique values"
   ]
  },
  {
   "cell_type": "code",
   "execution_count": null,
   "id": "d0c1431d-b44d-4670-83c7-dc82c407acef",
   "metadata": {},
   "outputs": [],
   "source": [
    "pd.DataFrame(df.nunique(), columns=['Number of unique Values'])"
   ]
  },
  {
   "cell_type": "markdown",
   "id": "0cd1b857-d40e-4554-8fd0-ab4a7de80bc7",
   "metadata": {},
   "source": [
    "## 5.3 value counts"
   ]
  },
  {
   "cell_type": "code",
   "execution_count": null,
   "id": "2474ee18-d96b-4f8f-9d92-e4d198936060",
   "metadata": {},
   "outputs": [],
   "source": [
    "def value_counts(col, top_n=10):\n",
    "    \"\"\"\n",
    "    Returns the top N unique values and their counts for a specified column.\n",
    "\n",
    "    Parameters:\n",
    "    - col (str): The column name for which to calculate value counts.\n",
    "    - top_n (int): The number of top unique values to return (default is 10).\n",
    "\n",
    "    Returns:\n",
    "    - pd.DataFrame: A DataFrame containing the top N unique values and their counts.\n",
    "    \"\"\"\n",
    "    # Calculate value counts and convert to DataFrame\n",
    "    value_counts_df = pd.DataFrame(df[col].value_counts().head(top_n))\n",
    "    \n",
    "    # Rename columns for better readability\n",
    "    value_counts_df.columns = ['Count']\n",
    "    \n",
    "    # Reset index to make the unique values a column\n",
    "    value_counts_df.reset_index(inplace=True)\n",
    "    value_counts_df.rename(columns={'index': col}, inplace=True)\n",
    "    \n",
    "    return value_counts_df"
   ]
  },
  {
   "cell_type": "markdown",
   "id": "748cf8e8-008f-4d0c-a172-28363f674730",
   "metadata": {},
   "source": [
    "## 5.4 published_timestamp"
   ]
  },
  {
   "cell_type": "code",
   "execution_count": null,
   "id": "66aecbe9-7ba9-4c40-acaf-27ee9076e84d",
   "metadata": {},
   "outputs": [],
   "source": [
    "df['published_timestamp']=pd.to_datetime(df['published_timestamp'])"
   ]
  },
  {
   "cell_type": "code",
   "execution_count": null,
   "id": "0357ffe0-2b56-4305-a183-82b129e0fad6",
   "metadata": {},
   "outputs": [],
   "source": [
    "df.info()"
   ]
  },
  {
   "cell_type": "markdown",
   "id": "f662ce49-0101-4720-94db-8338f574993b",
   "metadata": {},
   "source": [
    "## 5.5 content_duration"
   ]
  },
  {
   "cell_type": "code",
   "execution_count": null,
   "id": "29ae77ef-9312-438b-a034-fa5cba8cfc6a",
   "metadata": {},
   "outputs": [],
   "source": [
    "df['content_duration']"
   ]
  },
  {
   "cell_type": "code",
   "execution_count": null,
   "id": "4880a9c1-b44b-476c-a450-799d09cb6525",
   "metadata": {},
   "outputs": [],
   "source": [
    "# First try\n",
    "#for i in range (0,df.shape[0]-1):\n",
    " #   if df['content_duration'].str.contains('mins')[i] == True:\n",
    "  #      df['content_duration']=df['content_duration'].str.replace(' mins', '')\n",
    "   # elif df['content_duration'].str.contains(\"hour\")[i] == True:\n",
    "    #    df['content_duration']=df['content_duration'].str.replace(r\" hour.*\", '')"
   ]
  },
  {
   "cell_type": "code",
   "execution_count": null,
   "id": "cd1d2cd0-2e15-4791-b68c-d4df772dcc1d",
   "metadata": {},
   "outputs": [],
   "source": [
    "## second try:\n",
    "# Ensure the 'content_duration' column is treated as a string\n",
    "df['content_duration']=df['content_duration'].astype(str)\n",
    "\n",
    "for i, row in df.iterrows():\n",
    "    # Extract hours\n",
    "    hours = re.search(r\"(\\d+)\\s*hours?\", row['content_duration'])\n",
    "    hours = float(hours.group(1)) if hours else 0\n",
    "\n",
    "    # Extract minute\n",
    "    mins = re.search(r\"(\\d+)\\s*mins?\", row['content_duration'])\n",
    "    mins = float(mins.group(1)) if mins else 0\n",
    "\n",
    "    # Calculate total duration in hours\n",
    "    total_duration= (hours*60) + mins\n",
    "\n",
    "    # Update the DataFrame\n",
    "    df.at[i,'content_duration']= round(total_duration)"
   ]
  },
  {
   "cell_type": "code",
   "execution_count": null,
   "id": "21b9a621-a8d5-45af-a6ff-f30db6c35323",
   "metadata": {},
   "outputs": [],
   "source": [
    "## Modify code for content_duration column:\n",
    "\n",
    "# Function to convert duration to total minutes\n",
    "def convert_to_minutes(duration):\n",
    "    # Extract hours\n",
    "    hours = re.search(r\"(\\d+)\\s*hours?\", duration, re.IGNORECASE)\n",
    "    hours = float(hours.group(1)) if hours else 0\n",
    "\n",
    "    # Extract minutes\n",
    "    mins = re.search(r\"(\\d+)\\s*mins?\", duration, re.IGNORECASE)\n",
    "    mins = float(mins.group(1)) if mins else 0\n",
    "\n",
    "    # Convert to total minutes\n",
    "    return int((hours * 60) + mins)\n",
    "\n",
    "# Apply the function to the column\n",
    "df['content_duration'] = df['content_duration'].apply(convert_to_minutes)\n",
    "\n"
   ]
  },
  {
   "cell_type": "code",
   "execution_count": null,
   "id": "9b838aa8-91c4-4564-bf26-da77d424e3ec",
   "metadata": {},
   "outputs": [],
   "source": [
    "df['content_duration']"
   ]
  },
  {
   "cell_type": "markdown",
   "id": "b4e16f5f-3d0d-473a-93cb-36d5e6770361",
   "metadata": {},
   "source": [
    "## 5.6 price"
   ]
  },
  {
   "cell_type": "code",
   "execution_count": null,
   "id": "0dc6cfa3-3443-4e28-88e4-31787e7a3918",
   "metadata": {},
   "outputs": [],
   "source": [
    "value_counts('price')"
   ]
  },
  {
   "cell_type": "code",
   "execution_count": null,
   "id": "eb0a5361-8196-4f45-aa54-c44b22f37a7a",
   "metadata": {},
   "outputs": [],
   "source": [
    "# replacing Free with 0\n",
    "df['price']=df['price'].replace('Free',0)"
   ]
  },
  {
   "cell_type": "markdown",
   "id": "8fa595b6-92c9-4dec-935d-c82d898bdcac",
   "metadata": {},
   "source": [
    "## 5.7 change columns dtype"
   ]
  },
  {
   "cell_type": "code",
   "execution_count": null,
   "id": "f2ae265a-d9c7-4316-82e0-15ca1e3b8f20",
   "metadata": {},
   "outputs": [],
   "source": [
    "def change_type(df,dtype,columns):\n",
    "    for col in columns:\n",
    "        df[col]=df[col].astype(dtype)"
   ]
  },
  {
   "cell_type": "code",
   "execution_count": null,
   "id": "9cb2efc0-5bda-44e4-8793-e76cedee4dd9",
   "metadata": {},
   "outputs": [],
   "source": [
    "change_type(df, 'float', [['price' ]])"
   ]
  },
  {
   "cell_type": "code",
   "execution_count": null,
   "id": "b02540c0-c06a-48f5-850f-c360a26d1d3e",
   "metadata": {},
   "outputs": [],
   "source": [
    "df.info()"
   ]
  },
  {
   "cell_type": "markdown",
   "id": "c969d34d-7d7e-4a6c-b255-b247dbdf3e0d",
   "metadata": {},
   "source": [
    "## 5.8 map level column"
   ]
  },
  {
   "cell_type": "code",
   "execution_count": null,
   "id": "bf4b0276-7ecd-49fc-80a5-3ad41bfbfd68",
   "metadata": {},
   "outputs": [],
   "source": [
    "value_counts('level')"
   ]
  },
  {
   "cell_type": "code",
   "execution_count": null,
   "id": "b0bccb0b-acbe-47fb-9280-47c5ff165d09",
   "metadata": {},
   "outputs": [],
   "source": [
    "level_mapping={'All Levels' : 0, 'Beginner Level': 1, 'Intermediate Level': 2, 'Expert Level': 3}\n",
    "df['level']= df['level'].map(level_mapping)"
   ]
  },
  {
   "cell_type": "markdown",
   "id": "05a435f7-1031-404a-9206-b683463682d8",
   "metadata": {},
   "source": [
    "## 5.9 change columns Name"
   ]
  },
  {
   "cell_type": "code",
   "execution_count": null,
   "id": "7a3a81fb-6f4f-495f-a2fc-969a9c626666",
   "metadata": {},
   "outputs": [],
   "source": [
    "df.columns=['course_id','title', 'is_paid', 'price', 'subscribers','reviews', 'lectures', 'level', 'content_duration_mins','published_time', 'subject']"
   ]
  },
  {
   "cell_type": "markdown",
   "id": "9fe57481-fd92-4af8-949f-05cc5ee9a7ee",
   "metadata": {},
   "source": [
    "## 5.10 Drop columns"
   ]
  },
  {
   "cell_type": "code",
   "execution_count": 51,
   "id": "6dbb01c2-7183-4440-860c-7b9a30219ceb",
   "metadata": {},
   "outputs": [
    {
     "data": {
      "text/html": [
       "<div>\n",
       "<style scoped>\n",
       "    .dataframe tbody tr th:only-of-type {\n",
       "        vertical-align: middle;\n",
       "    }\n",
       "\n",
       "    .dataframe tbody tr th {\n",
       "        vertical-align: top;\n",
       "    }\n",
       "\n",
       "    .dataframe thead th {\n",
       "        text-align: right;\n",
       "    }\n",
       "</style>\n",
       "<table border=\"1\" class=\"dataframe\">\n",
       "  <thead>\n",
       "    <tr style=\"text-align: right;\">\n",
       "      <th></th>\n",
       "      <th>course_title</th>\n",
       "      <th>is_paid</th>\n",
       "      <th>price</th>\n",
       "      <th>num_subscribers</th>\n",
       "      <th>num_reviews</th>\n",
       "      <th>num_lectures</th>\n",
       "      <th>level</th>\n",
       "      <th>content_duration</th>\n",
       "      <th>published_timestamp</th>\n",
       "      <th>subject</th>\n",
       "    </tr>\n",
       "  </thead>\n",
       "  <tbody>\n",
       "    <tr>\n",
       "      <th>0</th>\n",
       "      <td>#1 Piano Hand Coordination: Play 10th Ballad i...</td>\n",
       "      <td>True</td>\n",
       "      <td>35</td>\n",
       "      <td>3137</td>\n",
       "      <td>18</td>\n",
       "      <td>68</td>\n",
       "      <td>All Levels</td>\n",
       "      <td>1.5 hours</td>\n",
       "      <td>2014-09-18T05:07:05Z</td>\n",
       "      <td>Musical Instruments</td>\n",
       "    </tr>\n",
       "    <tr>\n",
       "      <th>1</th>\n",
       "      <td>#10 Hand Coordination - Transfer Chord Ballad ...</td>\n",
       "      <td>True</td>\n",
       "      <td>75</td>\n",
       "      <td>1593</td>\n",
       "      <td>1</td>\n",
       "      <td>41</td>\n",
       "      <td>Intermediate Level</td>\n",
       "      <td>1 hour</td>\n",
       "      <td>2017-04-12T19:06:34Z</td>\n",
       "      <td>Musical Instruments</td>\n",
       "    </tr>\n",
       "    <tr>\n",
       "      <th>2</th>\n",
       "      <td>#12 Hand Coordination: Let your Hands dance wi...</td>\n",
       "      <td>True</td>\n",
       "      <td>75</td>\n",
       "      <td>482</td>\n",
       "      <td>1</td>\n",
       "      <td>47</td>\n",
       "      <td>Intermediate Level</td>\n",
       "      <td>1.5 hours</td>\n",
       "      <td>2017-04-26T18:34:57Z</td>\n",
       "      <td>Musical Instruments</td>\n",
       "    </tr>\n",
       "    <tr>\n",
       "      <th>3</th>\n",
       "      <td>#4 Piano Hand Coordination: Fun Piano Runs in ...</td>\n",
       "      <td>True</td>\n",
       "      <td>75</td>\n",
       "      <td>850</td>\n",
       "      <td>3</td>\n",
       "      <td>43</td>\n",
       "      <td>Intermediate Level</td>\n",
       "      <td>1 hour</td>\n",
       "      <td>2017-02-21T23:48:18Z</td>\n",
       "      <td>Musical Instruments</td>\n",
       "    </tr>\n",
       "    <tr>\n",
       "      <th>4</th>\n",
       "      <td>#5  Piano Hand Coordination:  Piano Runs in 2 ...</td>\n",
       "      <td>True</td>\n",
       "      <td>75</td>\n",
       "      <td>940</td>\n",
       "      <td>3</td>\n",
       "      <td>32</td>\n",
       "      <td>Intermediate Level</td>\n",
       "      <td>37 mins</td>\n",
       "      <td>2017-02-21T23:44:49Z</td>\n",
       "      <td>Musical Instruments</td>\n",
       "    </tr>\n",
       "    <tr>\n",
       "      <th>...</th>\n",
       "      <td>...</td>\n",
       "      <td>...</td>\n",
       "      <td>...</td>\n",
       "      <td>...</td>\n",
       "      <td>...</td>\n",
       "      <td>...</td>\n",
       "      <td>...</td>\n",
       "      <td>...</td>\n",
       "      <td>...</td>\n",
       "      <td>...</td>\n",
       "    </tr>\n",
       "    <tr>\n",
       "      <th>3677</th>\n",
       "      <td>Your Own Site in 45 Min: The Complete Wordpres...</td>\n",
       "      <td>True</td>\n",
       "      <td>120</td>\n",
       "      <td>1566</td>\n",
       "      <td>29</td>\n",
       "      <td>36</td>\n",
       "      <td>All Levels</td>\n",
       "      <td>4 hours</td>\n",
       "      <td>2015-04-20T22:15:17Z</td>\n",
       "      <td>Web Development</td>\n",
       "    </tr>\n",
       "    <tr>\n",
       "      <th>3678</th>\n",
       "      <td>Your Second Course on Piano: Two Handed Playing</td>\n",
       "      <td>True</td>\n",
       "      <td>70</td>\n",
       "      <td>1018</td>\n",
       "      <td>12</td>\n",
       "      <td>22</td>\n",
       "      <td>Beginner Level</td>\n",
       "      <td>5 hours</td>\n",
       "      <td>2015-10-26T20:04:21Z</td>\n",
       "      <td>Musical Instruments</td>\n",
       "    </tr>\n",
       "    <tr>\n",
       "      <th>3679</th>\n",
       "      <td>Zend Framework 2: Learn the PHP framework ZF2 ...</td>\n",
       "      <td>True</td>\n",
       "      <td>40</td>\n",
       "      <td>723</td>\n",
       "      <td>130</td>\n",
       "      <td>37</td>\n",
       "      <td>All Levels</td>\n",
       "      <td>6.5 hours</td>\n",
       "      <td>2015-11-11T18:55:45Z</td>\n",
       "      <td>Web Development</td>\n",
       "    </tr>\n",
       "    <tr>\n",
       "      <th>3680</th>\n",
       "      <td>Zoho Books Gestion Financière d'Entreprise pas...</td>\n",
       "      <td>False</td>\n",
       "      <td>Free</td>\n",
       "      <td>229</td>\n",
       "      <td>0</td>\n",
       "      <td>33</td>\n",
       "      <td>All Levels</td>\n",
       "      <td>2 hours</td>\n",
       "      <td>2017-05-26T16:45:55Z</td>\n",
       "      <td>Business Finance</td>\n",
       "    </tr>\n",
       "    <tr>\n",
       "      <th>3681</th>\n",
       "      <td>Zombie Apocalypse Photoshop Actions</td>\n",
       "      <td>True</td>\n",
       "      <td>50</td>\n",
       "      <td>12</td>\n",
       "      <td>1</td>\n",
       "      <td>15</td>\n",
       "      <td>All Levels</td>\n",
       "      <td>1.5 hours</td>\n",
       "      <td>2016-09-26T22:19:48Z</td>\n",
       "      <td>Graphic Design</td>\n",
       "    </tr>\n",
       "  </tbody>\n",
       "</table>\n",
       "<p>3682 rows × 10 columns</p>\n",
       "</div>"
      ],
      "text/plain": [
       "                                           course_title  is_paid price  \\\n",
       "0     #1 Piano Hand Coordination: Play 10th Ballad i...     True    35   \n",
       "1     #10 Hand Coordination - Transfer Chord Ballad ...     True    75   \n",
       "2     #12 Hand Coordination: Let your Hands dance wi...     True    75   \n",
       "3     #4 Piano Hand Coordination: Fun Piano Runs in ...     True    75   \n",
       "4     #5  Piano Hand Coordination:  Piano Runs in 2 ...     True    75   \n",
       "...                                                 ...      ...   ...   \n",
       "3677  Your Own Site in 45 Min: The Complete Wordpres...     True   120   \n",
       "3678    Your Second Course on Piano: Two Handed Playing     True    70   \n",
       "3679  Zend Framework 2: Learn the PHP framework ZF2 ...     True    40   \n",
       "3680  Zoho Books Gestion Financière d'Entreprise pas...    False  Free   \n",
       "3681                Zombie Apocalypse Photoshop Actions     True    50   \n",
       "\n",
       "      num_subscribers  num_reviews  num_lectures               level  \\\n",
       "0                3137           18            68          All Levels   \n",
       "1                1593            1            41  Intermediate Level   \n",
       "2                 482            1            47  Intermediate Level   \n",
       "3                 850            3            43  Intermediate Level   \n",
       "4                 940            3            32  Intermediate Level   \n",
       "...               ...          ...           ...                 ...   \n",
       "3677             1566           29            36          All Levels   \n",
       "3678             1018           12            22      Beginner Level   \n",
       "3679              723          130            37          All Levels   \n",
       "3680              229            0            33          All Levels   \n",
       "3681               12            1            15          All Levels   \n",
       "\n",
       "     content_duration   published_timestamp              subject  \n",
       "0           1.5 hours  2014-09-18T05:07:05Z  Musical Instruments  \n",
       "1              1 hour  2017-04-12T19:06:34Z  Musical Instruments  \n",
       "2           1.5 hours  2017-04-26T18:34:57Z  Musical Instruments  \n",
       "3              1 hour  2017-02-21T23:48:18Z  Musical Instruments  \n",
       "4             37 mins  2017-02-21T23:44:49Z  Musical Instruments  \n",
       "...               ...                   ...                  ...  \n",
       "3677          4 hours  2015-04-20T22:15:17Z      Web Development  \n",
       "3678          5 hours  2015-10-26T20:04:21Z  Musical Instruments  \n",
       "3679        6.5 hours  2015-11-11T18:55:45Z      Web Development  \n",
       "3680          2 hours  2017-05-26T16:45:55Z     Business Finance  \n",
       "3681        1.5 hours  2016-09-26T22:19:48Z       Graphic Design  \n",
       "\n",
       "[3682 rows x 10 columns]"
      ]
     },
     "execution_count": 51,
     "metadata": {},
     "output_type": "execute_result"
    }
   ],
   "source": [
    "df.drop(columns=['course_id'])"
   ]
  }
 ],
 "metadata": {
  "kernelspec": {
   "display_name": "Python 3 (ipykernel)",
   "language": "python",
   "name": "python3"
  },
  "language_info": {
   "codemirror_mode": {
    "name": "ipython",
    "version": 3
   },
   "file_extension": ".py",
   "mimetype": "text/x-python",
   "name": "python",
   "nbconvert_exporter": "python",
   "pygments_lexer": "ipython3",
   "version": "3.9.17"
  }
 },
 "nbformat": 4,
 "nbformat_minor": 5
}
