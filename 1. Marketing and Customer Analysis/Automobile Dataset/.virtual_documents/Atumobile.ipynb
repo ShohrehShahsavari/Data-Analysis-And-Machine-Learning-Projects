














import pandas as pd
import numpy as np
import matplotlib.pyplot as plt
from IPython.display import display
import seaborn as sns





df=pd.read_csv('E:/Python Projects/shohreh/Artificial intelligence - Mehdi Abbasi/GitHub_Repository/Data-Analysis-And-Machine-Learning-Projects/2. Marketing and Customer Analysis/Automobile Dataset/Automobile_data.csv')
df.head(2)


df.info()


df.isna().sum()


df.duplicated().sum()


df.describe().T


df.columns





pd.DataFrame(df.nunique(), columns=['Number of unique Values'])





### first Try
# Return unique values and their size
#def value_counts(col):
 #   return pd.DataFrame(df[col].value_counts()).head(10)


def value_counts(col, top_n=20):
    """
    Returns the top N unique values and their counts for a specified column.

    Parameters:
    - col (str): The column name for which to calculate value counts.
    - top_n (int): The number of top unique values to return (default is 10).

    Returns:
    - pd.DataFrame: A DataFrame containing the top N unique values and their counts.
    """
    # Calculate value counts and convert to DataFrame
    value_counts_df = pd.DataFrame(df[col].value_counts().head(top_n))
    
    # Rename columns for better readability
    value_counts_df.columns = ['Count']
    
    # Reset index to make the unique values a column
    value_counts_df.reset_index(inplace=True)
    value_counts_df.rename(columns={'index': col}, inplace=True)
    
    return value_counts_df


value_counts('fuel-system',3)


value_counts('fuel-type')





##First try
# def find_columns(symbol):
#     col=[]
#     for i in range (0,len(df.columns)):
#        print(f'Name of column: {df.columns[i]}')
#        print(df[(df[df.columns[i]]==symbol)].head(2))
#        print('*'*80)
#        if df[(df[df.columns[i]]==symbol)].size!= 0:
#            col.append(df.columns[i])
#     return col
# find_columns('?')


# Second try
#def find_columns(df, symbol):
 #   """
  #  Find columns in a DataFrame that contain a specific symbol.
#
 #   Parameters:
  #  df (pd.DataFrame): The DataFrame to search.
   # symbol (any): The value to search for in the DataFrame.
#
 #   Returns:
  #  list: A list of column names containing the symbol.
   # """
    # List to store columns containing the symbol
    #columns_with_symbol = []

    # Iterate through each column in the DataFrame
    #for column in df.columns:
        # Check if the symbol exists in the column
     #   if df[column].isin([symbol]).any():
      #      print(f'Name of column: {column}')
       #     display(df[df[column] == symbol].head(2))
        #    print('*' * 80)
         #   columns_with_symbol.append(column)

   # return columns_with_symbol


def find_columns(df, symbol, display_samples=True, max_samples=5):
    """
    Find columns in a DataFrame that contain a specific symbol.

    Parameters:
    df (pd.DataFrame): The DataFrame to search.
    symbol (any): The value to search for in the DataFrame.
    display_samples (bool): Whether to display sample rows for columns containing the symbol (default: True).
    max_samples (int): Maximum number of sample rows to display per column (default: 5).

    Returns:
    list: A list of column names containing the symbol.
    """
    # Use list comprehension to find columns containing the symbol
    columns_with_symbol = [column for column in df.columns if df[column].isin([symbol]).any()]

    # Display sample rows for columns containing the symbol (if enabled)
    if display_samples:
        for column in columns_with_symbol:
            # Filter rows where the column contains the symbol
            filtered_df = df[df[column] == symbol]
            count = filtered_df.shape[0]

            # Display column name and count of occurrences
            print(f'Name of column: {column}  Occurrences: {count}')

            # Display a sample of rows (up to max_samples)
            if count > 0:
                display(filtered_df.head(max_samples))
            print('*' * 80)

    return columns_with_symbol


find_columns(df,'?')











#Replace '?' with the calculated mean in the original column for int columns
def fill_int_columns(df,symbol, columns):
    for col in columns:
        df_col = df[df[col] != symbol] # Filter rows where col is not symbol
        mean_col = round(df_col[col].astype(int).mean()) # Calculate the mean of col after converting to integers
        df[col] = df[col].replace(symbol, mean_col) # Replace symbol with the calculated mean in the original DataFrame
    return df
df = fill_int_columns(df,'?', ['normalized-losses','horsepower', 'peak-rpm', 'price'])





value_counts('num-of-doors')


# Replace '?' with the mode and map textual values to numeric values
df['num-of-doors']= df['num-of-doors'].replace('?',df['num-of-doors'].mode().iloc[0])
mapping_dict={'two': 2, 'four': 4}
df['num-of-doors']= df['num-of-doors'].map(mapping_dict)





#Replace '?' with the calculated mean in the original column for float columns
def fill_float_columns(df,symbol, columns):
    for col in columns:
        df_col = df[df[col] != symbol] # Filter rows where col is not symbol
        mean_col = round(df_col[col].astype(float).mean(), 2) # Calculate the mean of col after converting to float
        df[col] = df[col].replace(symbol, mean_col) # Replace symbol with the calculated mean in the original DataFrame
    return df
df = fill_float_columns(df,'?', ['bore','stroke'])


value_counts('bore')


value_counts('stroke')





value_counts('num-of-cylinders')


# map textual values to numeric values
mapping_dict={'two': 2, 'three':3, 'four': 4, 'five':5, 'six':6, 'eight':8, 'twelve':12 }
df['num-of-cylinders']= df['num-of-cylinders'].map(mapping_dict)





# first try
def change_type(df,dtype,columns):
    for col in columns:
        df[col]=df[col].astype(dtype)



change_type(df, 'float', [['bore', 'stroke']])


change_type(df,'int64',[['normalized-losses','horsepower', 'peak-rpm', 'price']])


df.info()








# Select numeric columns
numeric_columns=df.select_dtypes(include=['number']).columns
print(numeric_columns)


ncols= 3
nrows = round(len(numeric_columns) / ncols)

fig, axes = plt.subplots(nrows = nrows, ncols = ncols, figsize=(20, 5*nrows))
fig.suptitle('Box Plot for numeric columns', fontsize= 16, y=1.0)
axes = axes.flatten()
for i, col in enumerate(numeric_columns):
    sns.boxplot(x= df[col], ax=axes[i], color='skyblue')
    axes[i].set_ylabel('count')
    axes[i].set_xlabel(f"{col}")    
# Hide unused subplots
for j in range(i + 1, len(axes)):
    axes[j].axis('off')

plt.tight_layout()
plt.show()








sns.histplot(df['price'], bins=50, kde=True)
plt.xlabel('price')
plt.ylabel('count')
plt.title('hisplot')
plt.show()





def remove_outliers(df,min,max)



q1=df['normalized-losses'].quantile(.25)
q3=df['normalized-losses'].quantile(.75)
iqr=q3 - q1
min=q1 - 1.5 * iqr
max= q3 + 1.5 *iqr
df=df[(df['normalized-losses'] < 75) | (df['normalized-losses'] > 175)]
