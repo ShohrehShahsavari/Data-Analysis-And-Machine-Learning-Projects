














import pandas as pd
import numpy as np
import matplotlib.pyplot as plt
from IPython.display import display
import seaborn as sns





df=pd.read_csv('E:/Python Projects/shohreh/Artificial intelligence - Mehdi Abbasi/GitHub_Repository/Data-Analysis-And-Machine-Learning-Projects/2. Marketing and Customer Analysis/Automobile Dataset/Automobile_data.csv')
df.head(2)


df.info()


df.isna().sum()


df.duplicated().sum()


df.describe().T


df.columns





pd.DataFrame(df.nunique(), columns=['Number of unique Values'])





### first Try
# Return unique values and their size
#def value_counts(col):
 #   return pd.DataFrame(df[col].value_counts()).head(10)


def value_counts(col, top_n=20):
    """
    Returns the top N unique values and their counts for a specified column.

    Parameters:
    - col (str): The column name for which to calculate value counts.
    - top_n (int): The number of top unique values to return (default is 10).

    Returns:
    - pd.DataFrame: A DataFrame containing the top N unique values and their counts.
    """
    # Calculate value counts and convert to DataFrame
    value_counts_df = pd.DataFrame(df[col].value_counts().head(top_n))
    
    # Rename columns for better readability
    value_counts_df.columns = ['Count']
    
    # Reset index to make the unique values a column
    value_counts_df.reset_index(inplace=True)
    value_counts_df.rename(columns={'index': col}, inplace=True)
    
    return value_counts_df


value_counts('fuel-system',3)


value_counts('fuel-type')





##First try
# def find_columns(symbol):
#     col=[]
#     for i in range (0,len(df.columns)):
#        print(f'Name of column: {df.columns[i]}')
#        print(df[(df[df.columns[i]]==symbol)].head(2))
#        print('*'*80)
#        if df[(df[df.columns[i]]==symbol)].size!= 0:
#            col.append(df.columns[i])
#     return col
# find_columns('?')


# Second try
#def find_columns(df, symbol):
 #   """
  #  Find columns in a DataFrame that contain a specific symbol.
#
 #   Parameters:
  #  df (pd.DataFrame): The DataFrame to search.
   # symbol (any): The value to search for in the DataFrame.
#
 #   Returns:
  #  list: A list of column names containing the symbol.
   # """
    # List to store columns containing the symbol
    #columns_with_symbol = []

    # Iterate through each column in the DataFrame
    #for column in df.columns:
        # Check if the symbol exists in the column
     #   if df[column].isin([symbol]).any():
      #      print(f'Name of column: {column}')
       #     display(df[df[column] == symbol].head(2))
        #    print('*' * 80)
         #   columns_with_symbol.append(column)

   # return columns_with_symbol


def find_columns(df, symbol, display_samples=True, max_samples=5):
    """
    Find columns in a DataFrame that contain a specific symbol.

    Parameters:
    df (pd.DataFrame): The DataFrame to search.
    symbol (any): The value to search for in the DataFrame.
    display_samples (bool): Whether to display sample rows for columns containing the symbol (default: True).
    max_samples (int): Maximum number of sample rows to display per column (default: 5).

    Returns:
    list: A list of column names containing the symbol.
    """
    # Use list comprehension to find columns containing the symbol
    columns_with_symbol = [column for column in df.columns if df[column].isin([symbol]).any()]

    # Display sample rows for columns containing the symbol (if enabled)
    if display_samples:
        for column in columns_with_symbol:
            # Filter rows where the column contains the symbol
            filtered_df = df[df[column] == symbol]
            count = filtered_df.shape[0]

            # Display column name and count of occurrences
            print(f'Name of column: {column}  Occurrences: {count}')

            # Display a sample of rows (up to max_samples)
            if count > 0:
                display(filtered_df.head(max_samples))
            print('*' * 80)

    return columns_with_symbol


find_columns(df,'?')











value_counts('normalized-losses')


# Filter rows where 'normalized-losses' is not '?'
df_normalized_losses = df[df['normalized-losses'] != '?']

# Calculate the mean of 'normalized-losses' after converting to integers
mean_normalized_losses = round(df_normalized_losses['normalized-losses'].astype(int).mean())

# Replace '?' with the calculated mean in the original DataFrame
df['normalized-losses'] = df['normalized-losses'].replace('?', mean_normalized_losses)





value_counts('num-of-doors')


# Replace '?' with the mode and map textual values to numeric values
df['num-of-doors']= df['num-of-doors'].replace('?',df['num-of-doors'].mode().iloc[0])
mapping_dict={'two': 2, 'four': 4}
df['num-of-doors']= df['num-of-doors'].map(mapping_dict)





value_counts('bore')


# Filter rows where 'bore' is not '?'
df_bore = df[df['bore'] != '?']

# Calculate the mean of 'bore' after converting to integers
mean_bore = round(df_bore['bore'].astype(float).mean(), 2)

# Replace '?' with the calculated mean in the original DataFrame
df['bore'] = df['bore'].replace('?', mean_bore)





value_counts('stroke')


# Filter rows where 'stroke' is not '?'
df_stroke = df[df['stroke'] != '?']

# Calculate the mean of 'stroke' after converting to floats
mean_stroke = round(df_stroke['stroke'].astype(float).mean(),2)

# Replace '?' with the calculated mean in the original DataFrame
df['stroke'] = df['stroke'].replace('?', mean_stroke)





value_counts('horsepower')


# Filter rows where 'horsepower' is not '?'
df_horsepower = df[df['horsepower'] != '?']

# Calculate the mean of 'horsepower' after converting to integers
mean_horsepower = round(df_horsepower['horsepower'].astype(int).mean())

# Replace '?' with the calculated mean in the original DataFrame
df['horsepower'] = df['horsepower'].replace('?', mean_horsepower)





value_counts('peak-rpm')


# Filter rows where 'peak-rpm' is not '?'
df_peak_rpm = df[df['peak-rpm'] != '?']

# Calculate the mean of 'peak-rpm' after converting to integers
mean_peak_rpm = round(df_peak_rpm['peak-rpm'].astype(int).mean())

# Replace '?' with the calculated mean in the original DataFrame
df['peak-rpm'] = df['peak-rpm'].replace('?', mean_peak_rpm)





value_counts('price')


# Filter rows where 'price' is not '?'
df_price = df[df['price'] != '?']

# Calculate the mean of 'price' after converting to integers
mean_price = round(df_price['price'].astype(int).mean())

# Replace '?' with the calculated mean in the original DataFrame
df['price'] = df['price'].replace('?', mean_price)





value_counts('num-of-cylinders')


# map textual values to numeric values
mapping_dict={'two': 2, 'three':3, 'four': 4, 'five':5, 'six':6, 'eight':8, 'twelve':12 }
df['num-of-cylinders']= df['num-of-cylinders'].map(mapping_dict)





# first try
def change_type(df,dtype,columns):
    for col in columns:
        df[col]=df[col].astype(dtype)



change_type(df, 'float', [['bore', 'stroke']])


change_type(df,'int64',[['normalized-losses','horsepower', 'peak-rpm', 'price']])


df.info()








# Select numeric columns
numeric_columns=df.select_dtypes(include=['number']).columns
print(numeric_columns)


fig, axes = plt.subplots(nrows = 2, ncols = 2, figsize=(20,20))
sns.boxplot(y= df['price'], ax=axes[0, 0], color='skyblue')
axes[0,0].set_xlabel('count')
axes[0,0].set_ylabel('Price')
axes[0,0].set_title('price')

plt.tight_layout()
plt.show()


numeric_columns= df.select_dtypes(include=['number']).columns
print(numeric_columns)
print(len(numeric_columns))


fig, axes = plt.subplots(nrows = 6, ncols = 3, figsize=(20,20))
sns.boxplot(y= df['price'], ax=axes[0, 0], color='skyblue')
axes[0,0].set_xlabel('count')
axes[0,0].set_ylabel('Price')
axes[0,0].set_title('price')

plt.tight_layout()
plt.show()



numeric_columns=df.select_dtypes(include=['number']).columns
def outliers_BoxPlot(df, columns, figsize=(8, 6), color='skyblue'):
    """
    Generate box plots for specified columns to visualize outliers.

    Parameters:
    df (pd.DataFrame): The DataFrame containing the data.
    columns (list): List of numeric column names to plot.
    figsize (tuple): Size of the figure (width, height) (default: (8, 6)).
    color (str): Color of the box plot (default: 'skyblue').
    """
    # Iterate through each column and create a box plot
    for col in columns:
        plt.figure(figsize=figsize)  # Set figure size
        sns.boxplot(x=df[col], color=color)  # Create box plot
        plt.title(f'Box Plot for {col}', fontsize=14)  # Add title
        plt.xlabel(col, fontsize=12)  # Add x-axis label
        plt.ylabel('Values', fontsize=12)  # Add y-axis label
        plt.grid(axis='y', linestyle='--', alpha=0.7)  # Add grid lines
        plt.show()  # Display the plot


outliers_BoxPlot(df,numeric_columns)





def remove_outliers(df,min,max)



q1=df['normalized-losses'].quantile(.25)
q3=df['normalized-losses'].quantile(.75)
iqr=q3 - q1
min=q1 - 1.5 * iqr
max= q3 + 1.5 *iqr
df=df[(df['normalized-losses'] < 75) | (df['normalized-losses'] > 175)]


def detect_outliers_iqr(df, column):
    Q1 = df[column].quantile(0.25)  # First quartile (25th percentile)
    Q3 = df[column].quantile(0.75)  # Third quartile (75th percentile)
    IQR = Q3 - Q1  # Interquartile range

    # Define outlier bounds
    lower_bound = Q1 - 1.5 * IQR
    upper_bound = Q3 + 1.5 * IQR

    # Find outliers
    outliers = df[(df[column] < lower_bound) | (df[column] > upper_bound)]
    return outliers
