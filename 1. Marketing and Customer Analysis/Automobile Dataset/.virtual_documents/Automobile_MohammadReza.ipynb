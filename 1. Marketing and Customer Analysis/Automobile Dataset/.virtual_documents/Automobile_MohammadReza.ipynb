























import pandas as pd
import numpy as np
import matplotlib.pyplot as plt
import seaborn as sns
import scipy.stats as stats
import warnings

warnings.filterwarnings("ignore", "is_categorical_dtype")
warnings.filterwarnings("ignore", "use_inf_as_na")





# import dataset
df = pd.read_csv("Automobile_data.csv")





# Analyzing Dataset structure
df.head(2)


# Shape of datafram
df.shape


# check datafram for null values
df.isna().sum()


# check dataframe for duplicated values
df.duplicated().sum()


df.info()











df.describe().T











pd.DataFrame(df.nunique(), columns=['Numer Of Unique Values'])





# Return unique values and their size
def value_counts_df(col):
    return pd.DataFrame(df[col].value_counts())


value_counts_df('normalized-losses').head(10)


value_counts_df('make').head(10)


value_counts_df('num-of-doors')


value_counts_df('bore').head(20)

















# Filtering "?" to be sure about the results
df[(df['peak-rpm'] == "?")]


# "peak_rpm" feature
peak_rpm = df['peak-rpm'].loc[(df['peak-rpm'] != "?")]

# calculating the mean of "peak-rpm"
peak_rpm_mean = peak_rpm.astype('int').mean()

# Replacing mean value with "?"
df['peak-rpm'] = df['peak-rpm'].replace("?", peak_rpm_mean)


# Correcting the datatype
df['peak-rpm'] = df['peak-rpm'].astype(int)





# Filtering "?"
df[(df['normalized-losses'] == '?')]


# "normalized_losses" feature
# Filter rows with "?"
normalized_losses = df['normalized-losses'].loc[(df['normalized-losses'] != "?")]

# Calculate the mean of "normalized-losses"
normalized_losses_mean = normalized_losses.astype('int').mean()

# Replacing mean of feature with "?"
df['normalized-losses'] = df['normalized-losses'].replace("?", normalized_losses_mean)


# Correcting the dtype
df['normalized-losses'] = df['normalized-losses'].astype(int)








# num-of-doors feature
df['num-of-doors'] = df['num-of-doors'].replace("?", df['num-of-doors'].mode()[0])
door_mapping = {
    'one': 1,
    'two': 2,
    'three': 3,
    'four': 4,
    'five': 5
}
df['num-of-doors'] = df['num-of-doors'].map(door_mapping)


# Recheck "sum-of-doors"
df['num-of-doors'].unique()








# num-of-cylinders feature
cylinders_mapping = {
    'two': 2,
    'three': 3,
    'four': 4,
    'five': 5,
    'six': 6,
    'seven': 7,
    'eight': 8,
    'nine': 9,
    'tweleve': 12
}
df['num-of-cylinders'] = df['num-of-cylinders'].map(cylinders_mapping)





# Filter dataframe to find the rows with "?"
df.loc[(df['price'] == "?")]


# Filter dataframe and remove rows with "?"
prices = df['price'].loc[(df['price'] != "?")]

# Calculate mean of price
prices_mean = prices.astype("str").astype("int").mean()

# Repalcing mean with "?"
df['price'] = df['price'].replace("?", prices_mean).astype("int")





# Filter dataframe to find "?"
df[(df['horsepower'] == "?")]


# Filter dataframe and remove rows with "?"
hp = df['horsepower'].loc[(df['horsepower'] != "?")]

# Calculate mean of horsepower
hp_mean = hp.astype('str').astype('int').mean()

## Repalcing mean with "?" and change the dtype
df['horsepower'] = df['horsepower'].replace("?", hp_mean).astype("int")





# Filter dataframe to find rows with "?"
df[(df['bore'] == "?")]


# Filter dataframe and remove rows with "?"
bore = df['bore'].loc[(df['bore'] != "?")]

# Calculate mean of bore
bore_mean = bore.astype('str').astype('float').mean()

# Repalcing mean with "?" and change the dtype
df['bore'] = df['bore'].replace("?", bore_mean).astype("float")





# Filter df to find rows with "?"
df[(df['stroke'] == "?")]


# Filter dataframe and remove rows with "?"
stroke = df['stroke'].loc[(df['stroke'] != "?")]

# # Calculate mean of stroke
stroke_mean = stroke.astype('str').astype('float').mean()

# Repalcing mean with "?" and change the dtype
df['stroke'] = df['stroke'].replace("?", stroke_mean).astype('float')





# Creating a method to change the data types
def change_dtype(df, dtype, cols):
    for col in cols:
        df[col] = df[col].astype(dtype)


# Below features must be float
change_dtype(df, 'float', [["engine-size", "horsepower", "peak-rpm", "normalized-losses", "bore", "stroke"]])

# Check Dataframe
df.info()





# corret columns names
df.rename(columns={
        'normalized-losses': "normalized_losses", 
        'fuel-type' : "fuel_type",
        'num-of-doors': "num_of_doors",
        'body-style' : "body_style",
        'drive-wheels': 'drive_wheels',
        'engine-location': 'engine_location',
        'wheel-base': 'wheel_base',
        'curb-weight': 'curb_weight',
        'engine-type': 'engine_type',
        'num-of-cylinders': 'num_of_cylinders',
        'engine-size': 'engine_size',
        'fuel-system': 'fuel_system',
        'compression-ratio': 'compression_ratio',
        'peak-rpm': 'peak_rpm', 
        'city-mpg': 'city_mpg',
        'highway-mpg' : 'highway_mpg',
                                
                }, inplace=True)


# check dataframe
df.head()








# Identify numeric columns
numeric_columns = df.select_dtypes(include=[np.number]).columns


# Visualize data using box plots
def plot_outliers(numeric_columns):
    for col in numeric_columns:
        plt.figure(figsize=(8, 4))
        sns.boxplot(x=col, data=df, color='skyblue', width=0.5)  # Adjust boxplot width and color
        plt.title(f'Boxplot of {col}', fontsize=16)  # Add title with appropriate font size
        plt.xlabel(f'{col}', fontsize=14)  # Add x-axis label with appropriate font size
        plt.grid(True, linestyle='--', alpha=0.7)  # Add grid lines with customized style and transparency
        plt.xticks(fontsize=12)  # Adjust x-axis tick font size
        plt.yticks(fontsize=12)  # Adjust y-axis tick font size
        plt.tight_layout()  # Adjust layout to prevent overlapping
        plt.show()
plot_outliers(numeric_columns)








# below funtion will find outliers by using IQR:
def detect_outliers_iqr(data):
    Q1 = data.quantile(0.25)
    Q3 = data.quantile(0.75)
    IQR = Q3 - Q1
    return (data < (Q1 - 1.5 * IQR)) | (data > (Q3 + 1.5 * IQR))


# Apply the function to detect outliers
outliers_mask = detect_outliers_iqr(df.select_dtypes(include=['number']))

# Replace outliers with median
numeric_cols = df.select_dtypes(include=[np.number]).columns

# Imputation
for col in numeric_cols:
    median_val = df[col].median()  # Calculate median for each column
    df[col] = df[col].where(~outliers_mask[col], median_val)



numeric_features = df.select_dtypes(include='number')


fig, ((ax1, ax2, ax3, ax4), (ax5, ax6, ax7, ax8), (ax9, ax10, ax11, ax12), (ax13, ax14, ax15, ax16)) = plt.subplots(4, 4, figsize=(20, 16))

ax1.boxplot(df["symboling"])
ax1.set_title("Symboling")

ax2.boxplot(df["normalized_losses"])
ax2.set_title("Normalized Losses")

ax3.boxplot(df["num_of_doors"])
ax3.set_title("Number of Doors")

ax4.boxplot(df["wheel_base"])
ax4.set_title("Wheel Base")

ax5.boxplot(df["length"])
ax5.set_title("Length")

ax6.boxplot(df["width"])
ax6.set_title("Width")

ax7.boxplot(df["height"])
ax7.set_title("Height")

ax8.boxplot(df["curb_weight"])
ax8.set_title("Curb Weight")

ax9.boxplot(df["num_of_cylinders"])
ax9.set_title("Number of Cylinders")

ax10.boxplot(df["engine_size"])
ax10.set_title("Engine Size")

ax11.boxplot(df["bore"])
ax11.set_title("Bore")

ax12.boxplot(df["stroke"])
ax12.set_title("Stroke")

ax13.boxplot(df["compression_ratio"])
ax13.set_title("Compression Ratio")

ax14.boxplot(df["horsepower"])
ax14.set_title("Horsepower")

ax15.boxplot(df["peak_rpm"])
ax15.set_title("Peak RPM")

ax16.boxplot(df["city_mpg"])
ax16.set_title("City MPG")

plt.tight_layout()
plt.show()















title_font = {"family" : "arial", "color" : "darkred", "weight" : "bold", "size" : 15}
axis_font = {"family" : "arial", "color" : "darkblue", "weight" : "bold", "size" : 13}

def barplot(col, figsize=(10, 5)):
    plt.figure(figsize=figsize)
    sns.barplot(x=df[col].value_counts().index, y=df[col].value_counts(), data=df, palette='viridis')
    plt.title(f"{col}'s Barplot", fontdict=title_font)
    plt.xlabel(f"{col}", fontdict=axis_font)
    plt.ylabel("Frequency", fontdict=axis_font)
    plt.xticks(rotation=90)
    plt.tight_layout
    plt.show()


def pie(column):
    counts = df[column].value_counts()
    sns.color_palette("bright")
    plt.figure(figsize=(8, 5))
    plt.pie(counts, labels=counts.index, autopct='%1.1f%%', startangle=140)
    plt.title(f'Pie chart for {column}', fontdict=title_font)
    plt.axis('equal')
    plt.legend()
    plt.show()


barplot('make')


pie('make')


barplot('fuel_type', figsize=(8, 4))


pie('fuel_type')


barplot('aspiration', figsize=(8, 4))


pie('aspiration')


barplot('body_style')


pie('body_style')


barplot('drive_wheels')


pie('drive_wheels')


barplot('engine_location', figsize=(8, 4))


pie('engine_location')


barplot('engine_type', figsize=(8, 5))


pie('engine_type')


barplot('fuel_system', figsize=(8, 5))


pie('fuel_system')




















def histogram(col, bins=50):
    mean = df[col].mean()
    median = df[col].median()

    # Seabonr's Histogram
    plt.figure(figsize=(8, 4))
    sns.set_style('darkgrid')
    sns.histplot(data=df, x=col, bins=bins, kde=True, color='blue', edgecolor='black')
    # Add mean and median tp plot
    plt.axvline(mean, color='red', linestyle='dashed', linewidth=2, label='Mean')
    plt.axvline(median, color='green', linestyle='dashed', linewidth=2, label='Median')
    # Plot Style
    plt.title(f"{col}'s Histogram", fontdict=title_font)
    plt.ylabel(f"{col}", fontdict=axis_font)
    plt.xlabel("Count", fontdict=axis_font)
    plt.legend()
    plt.show()


histogram("symboling")


histogram('normalized_losses')


histogram('num_of_doors')


histogram('wheel_base')


histogram('length')


histogram('width')


histogram('height')


histogram('curb_weight')


histogram('engine_size', bins='auto')


histogram('bore', bins='auto')


histogram('stroke')


histogram('compression_ratio', bins='auto')


histogram('horsepower', bins='auto')


histogram('peak_rpm', bins='auto')


histogram('city_mpg')


histogram('highway_mpg')


histogram('price')


df.describe().T











# Chossing numeric features
df_corr = df.corr(numeric_only=True)

# Plotting heatmatp
plt.figure(figsize=(12, 6))
sns.set_style('darkgrid')
sns.heatmap(data=df_corr, cmap='viridis', annot=True, fmt='.1f', linewidths=0.5)
plt.title('Heatmap Plot', fontsize=16)
plt.xlabel('X Axis', fontsize=12)  
plt.ylabel('Y Axis', fontsize=12)  
plt.xticks(fontsize=10)  
plt.yticks(fontsize=10)  
plt.tight_layout()  
# Show the plot
plt.show()





def scatter(col):
    plt.figure(figsize=(8, 6))
    sns.set_style("darkgrid")
    sns.regplot(data=df, x=col, y='price', color='blue',line_kws={"color": 'black'})
    plt.title(f"{col} Vs Price", fontdict={"color" : "darkred", "weight" : "bold", "size" : 15})
    plt.xlabel(col, fontdict={"color": "darkblue", "weight": "bold", "size": 10})
    plt.ylabel('Price', fontdict={"color": "darkblue", "weight": "bold", "size": 10})
    plt.show()


scatter('engine_size')


scatter('length')


scatter('width')


scatter('horsepower')


scatter('curb_weight')





plt.figure(figsize=(16, 6))
sns.boxplot(x='make', y='price', data=df, hue='fuel_type')
plt.title('Box Plot of Price by Number of Doors')
plt.xlabel('Number of Doors')
plt.ylabel('Price')
plt.legend(title='Fuel Type')
plt.grid(axis='y', linestyle='--', alpha=0.5)
plt.tight_layout()
plt.show()





sns.lmplot(data=df, x='price',y='horsepower', hue='fuel_type')


sns.lmplot(data=df, x='price',y='horsepower', hue='body_style')


sns.lmplot(data=df, x='price',y='horsepower', hue='engine_type')


sns.lmplot(data=df, x='price',y='horsepower', hue='fuel_system')









