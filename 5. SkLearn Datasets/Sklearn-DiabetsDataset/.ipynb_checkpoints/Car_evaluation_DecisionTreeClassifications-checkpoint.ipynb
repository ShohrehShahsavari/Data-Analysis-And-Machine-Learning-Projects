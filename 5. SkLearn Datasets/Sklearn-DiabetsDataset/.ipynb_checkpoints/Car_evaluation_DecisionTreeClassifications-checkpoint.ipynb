{
 "cells": [
  {
   "cell_type": "markdown",
   "id": "6ac19cfe-c57f-4008-87d8-22a4b58e7030",
   "metadata": {},
   "source": [
    "# Import Libraries"
   ]
  },
  {
   "cell_type": "code",
   "execution_count": 85,
   "id": "73bb8af9-1c0a-417b-b719-8ded87ae87f1",
   "metadata": {},
   "outputs": [],
   "source": [
    "import numpy as np\n",
    "import pandas as pd\n",
    "import matplotlib.pyplot as plt\n",
    "from sklearn.preprocessing import LabelEncoder, StandardScaler, MinMaxScaler\n",
    "from sklearn.model_selection import train_test_split, RandomizedSearchCV\n",
    "from sklearn.tree import DecisionTreeClassifier\n",
    "from sklearn.ensemble import RandomForestClassifier\n",
    "from sklearn.metrics import f1_score, confusion_matrix, classification_report"
   ]
  },
  {
   "cell_type": "markdown",
   "id": "857f5e35-f2a5-4c24-a022-75012ca6a4dc",
   "metadata": {
    "jp-MarkdownHeadingCollapsed": true
   },
   "source": [
    "# Import data"
   ]
  },
  {
   "cell_type": "code",
   "execution_count": 86,
   "id": "85461622-d5f2-4c40-8b20-9720c86fbb22",
   "metadata": {},
   "outputs": [],
   "source": [
    "df= pd.read_csv('E:/Python Projects/shohreh/Shohreh_GitHub_Repository/Data-Analysis-And-Machine-Learning-Projects/3. Business Intelligence and Sales Analysis/Car_evaluation/car_evaluation.csv', header= None)"
   ]
  },
  {
   "cell_type": "code",
   "execution_count": 53,
   "id": "54c54292-5bad-461c-8f15-990197d4644e",
   "metadata": {},
   "outputs": [
    {
     "name": "stdout",
     "output_type": "stream",
     "text": [
      "<class 'pandas.core.frame.DataFrame'>\n",
      "RangeIndex: 1728 entries, 0 to 1727\n",
      "Data columns (total 7 columns):\n",
      " #   Column  Non-Null Count  Dtype \n",
      "---  ------  --------------  ----- \n",
      " 0   0       1728 non-null   object\n",
      " 1   1       1728 non-null   object\n",
      " 2   2       1728 non-null   object\n",
      " 3   3       1728 non-null   object\n",
      " 4   4       1728 non-null   object\n",
      " 5   5       1728 non-null   object\n",
      " 6   6       1728 non-null   object\n",
      "dtypes: object(7)\n",
      "memory usage: 94.6+ KB\n"
     ]
    }
   ],
   "source": [
    "df.info()"
   ]
  },
  {
   "cell_type": "code",
   "execution_count": 54,
   "id": "6066558b-67fd-4934-8127-0a3903cab770",
   "metadata": {},
   "outputs": [
    {
     "data": {
      "text/html": [
       "<div>\n",
       "<style scoped>\n",
       "    .dataframe tbody tr th:only-of-type {\n",
       "        vertical-align: middle;\n",
       "    }\n",
       "\n",
       "    .dataframe tbody tr th {\n",
       "        vertical-align: top;\n",
       "    }\n",
       "\n",
       "    .dataframe thead th {\n",
       "        text-align: right;\n",
       "    }\n",
       "</style>\n",
       "<table border=\"1\" class=\"dataframe\">\n",
       "  <thead>\n",
       "    <tr style=\"text-align: right;\">\n",
       "      <th></th>\n",
       "      <th>0</th>\n",
       "      <th>1</th>\n",
       "      <th>2</th>\n",
       "      <th>3</th>\n",
       "      <th>4</th>\n",
       "      <th>5</th>\n",
       "      <th>6</th>\n",
       "    </tr>\n",
       "  </thead>\n",
       "  <tbody>\n",
       "    <tr>\n",
       "      <th>0</th>\n",
       "      <td>vhigh</td>\n",
       "      <td>vhigh</td>\n",
       "      <td>2</td>\n",
       "      <td>2</td>\n",
       "      <td>small</td>\n",
       "      <td>low</td>\n",
       "      <td>unacc</td>\n",
       "    </tr>\n",
       "    <tr>\n",
       "      <th>1</th>\n",
       "      <td>vhigh</td>\n",
       "      <td>vhigh</td>\n",
       "      <td>2</td>\n",
       "      <td>2</td>\n",
       "      <td>small</td>\n",
       "      <td>med</td>\n",
       "      <td>unacc</td>\n",
       "    </tr>\n",
       "    <tr>\n",
       "      <th>2</th>\n",
       "      <td>vhigh</td>\n",
       "      <td>vhigh</td>\n",
       "      <td>2</td>\n",
       "      <td>2</td>\n",
       "      <td>small</td>\n",
       "      <td>high</td>\n",
       "      <td>unacc</td>\n",
       "    </tr>\n",
       "    <tr>\n",
       "      <th>3</th>\n",
       "      <td>vhigh</td>\n",
       "      <td>vhigh</td>\n",
       "      <td>2</td>\n",
       "      <td>2</td>\n",
       "      <td>med</td>\n",
       "      <td>low</td>\n",
       "      <td>unacc</td>\n",
       "    </tr>\n",
       "    <tr>\n",
       "      <th>4</th>\n",
       "      <td>vhigh</td>\n",
       "      <td>vhigh</td>\n",
       "      <td>2</td>\n",
       "      <td>2</td>\n",
       "      <td>med</td>\n",
       "      <td>med</td>\n",
       "      <td>unacc</td>\n",
       "    </tr>\n",
       "  </tbody>\n",
       "</table>\n",
       "</div>"
      ],
      "text/plain": [
       "       0      1  2  3      4     5      6\n",
       "0  vhigh  vhigh  2  2  small   low  unacc\n",
       "1  vhigh  vhigh  2  2  small   med  unacc\n",
       "2  vhigh  vhigh  2  2  small  high  unacc\n",
       "3  vhigh  vhigh  2  2    med   low  unacc\n",
       "4  vhigh  vhigh  2  2    med   med  unacc"
      ]
     },
     "execution_count": 54,
     "metadata": {},
     "output_type": "execute_result"
    }
   ],
   "source": [
    "df.head()"
   ]
  },
  {
   "cell_type": "markdown",
   "id": "99ce0202-ab2a-4f3d-937d-10b3075fefcb",
   "metadata": {},
   "source": [
    "# Data Review"
   ]
  },
  {
   "cell_type": "markdown",
   "id": "e828f278-0a5c-4a5d-9246-fd835df612ec",
   "metadata": {},
   "source": [
    "## Car Evaluation Dataset Overview\r\n",
    "\r\n",
    "The provided dataset, `car_evaluation.csv`, contains evaluations of cars based on various attributes. Each row represents a unique combination of car features and the corresponding evaluation outcome.\r\n",
    "#\r\n",
    "## **Columns (Features)**\r\n",
    "1. **`buying`**: The buying price of the car.  \r\n",
    "   - Possible values: `vhigh` (very high), `high`, `med` (medium), `low`  \r\n",
    "2. **`maint`**: The maintenance cost of the car.  \r\n",
    "   - Possible values: `vhigh`, `high`, `med`, `low`  \r\n",
    "3. **`doors`**: The number of doors.  \r\n",
    "   - Possible values: `2`, `3`, `4`, `5more` (5 or more)  \r\n",
    "4. **`persons`**: The seating capacity.  \r\n",
    "   - Possible values: `2`, `4`, `more` (more than 4)  \r\n",
    "5. **`lug_boot`**: The size of the luggage boot.  \r\n",
    "   - Possible values: `small`, `med` (medium), `big`  \r\n",
    "6. **`safety`**: The estimated safety of the car.  \r\n",
    "   - Possible values: `low`, `med`, `high`  \r\n",
    "7. **`class`**: The evaluation outcome (target variable).  \r\n",
    "   - Possible values: `unacc` (unacceptable), `acc` (acceptable), `good`, `vgoforest model to predict car acceptability."
   ]
  },
  {
   "cell_type": "markdown",
   "id": "255024cc-c59d-4dab-850a-88f3eb9453c4",
   "metadata": {},
   "source": [
    "# Data cleaning"
   ]
  },
  {
   "cell_type": "code",
   "execution_count": 87,
   "id": "d2a84c32-ba2f-4009-8b49-27b3065cf872",
   "metadata": {},
   "outputs": [],
   "source": [
    "# change columns name with appropriate name\n",
    "# df= df.rename(columns={0: 'buying', 1: 'maint', 2: 'doors', 3: 'persons', 4: 'lug_boot', 5: 'safety', 6: 'class'})\n",
    "df.columns= ['buying', 'maint', 'doors', 'persons', 'lug_boot', 'safety', 'class']"
   ]
  },
  {
   "cell_type": "code",
   "execution_count": 88,
   "id": "f38e4859-c9af-4daa-bc9c-38823c39441a",
   "metadata": {},
   "outputs": [
    {
     "data": {
      "text/plain": [
       "Index(['buying', 'maint', 'doors', 'persons', 'lug_boot', 'safety', 'class'], dtype='object')"
      ]
     },
     "execution_count": 88,
     "metadata": {},
     "output_type": "execute_result"
    }
   ],
   "source": [
    "df.columns"
   ]
  },
  {
   "cell_type": "code",
   "execution_count": 89,
   "id": "0f526b9c-2041-47da-83c4-dae822bc1ac0",
   "metadata": {},
   "outputs": [
    {
     "data": {
      "text/html": [
       "<div>\n",
       "<style scoped>\n",
       "    .dataframe tbody tr th:only-of-type {\n",
       "        vertical-align: middle;\n",
       "    }\n",
       "\n",
       "    .dataframe tbody tr th {\n",
       "        vertical-align: top;\n",
       "    }\n",
       "\n",
       "    .dataframe thead th {\n",
       "        text-align: right;\n",
       "    }\n",
       "</style>\n",
       "<table border=\"1\" class=\"dataframe\">\n",
       "  <thead>\n",
       "    <tr style=\"text-align: right;\">\n",
       "      <th></th>\n",
       "      <th>Number of unique values</th>\n",
       "    </tr>\n",
       "  </thead>\n",
       "  <tbody>\n",
       "    <tr>\n",
       "      <th>buying</th>\n",
       "      <td>4</td>\n",
       "    </tr>\n",
       "    <tr>\n",
       "      <th>maint</th>\n",
       "      <td>4</td>\n",
       "    </tr>\n",
       "    <tr>\n",
       "      <th>doors</th>\n",
       "      <td>4</td>\n",
       "    </tr>\n",
       "    <tr>\n",
       "      <th>persons</th>\n",
       "      <td>3</td>\n",
       "    </tr>\n",
       "    <tr>\n",
       "      <th>lug_boot</th>\n",
       "      <td>3</td>\n",
       "    </tr>\n",
       "    <tr>\n",
       "      <th>safety</th>\n",
       "      <td>3</td>\n",
       "    </tr>\n",
       "    <tr>\n",
       "      <th>class</th>\n",
       "      <td>4</td>\n",
       "    </tr>\n",
       "  </tbody>\n",
       "</table>\n",
       "</div>"
      ],
      "text/plain": [
       "          Number of unique values\n",
       "buying                          4\n",
       "maint                           4\n",
       "doors                           4\n",
       "persons                         3\n",
       "lug_boot                        3\n",
       "safety                          3\n",
       "class                           4"
      ]
     },
     "execution_count": 89,
     "metadata": {},
     "output_type": "execute_result"
    }
   ],
   "source": [
    "pd.DataFrame(df.nunique(), columns=['Number of unique values'])"
   ]
  },
  {
   "cell_type": "code",
   "execution_count": 21,
   "id": "6953b91d-294e-46aa-8e0e-86ed6cae8973",
   "metadata": {},
   "outputs": [],
   "source": [
    "def valuecounts(df, column):\n",
    "    return pd.DataFrame(df[column].value_counts(), columns=['count'])"
   ]
  },
  {
   "cell_type": "code",
   "execution_count": 22,
   "id": "94442880-aede-46a4-a77e-9eaeb7ea55fd",
   "metadata": {},
   "outputs": [
    {
     "name": "stdout",
     "output_type": "stream",
     "text": [
      "        count\n",
      "buying       \n",
      "vhigh     432\n",
      "high      432\n",
      "med       432\n",
      "low       432\n",
      "***************\n",
      "       count\n",
      "maint       \n",
      "vhigh    432\n",
      "high     432\n",
      "med      432\n",
      "low      432\n",
      "***************\n",
      "       count\n",
      "doors       \n",
      "2        432\n",
      "3        432\n",
      "4        432\n",
      "5more    432\n",
      "***************\n",
      "         count\n",
      "persons       \n",
      "2          576\n",
      "4          576\n",
      "more       576\n",
      "***************\n",
      "          count\n",
      "lug_boot       \n",
      "small       576\n",
      "med         576\n",
      "big         576\n",
      "***************\n",
      "        count\n",
      "safety       \n",
      "low       576\n",
      "med       576\n",
      "high      576\n",
      "***************\n",
      "       count\n",
      "class       \n",
      "unacc   1210\n",
      "acc      384\n",
      "good      69\n",
      "vgood     65\n",
      "***************\n"
     ]
    }
   ],
   "source": [
    "for col in df.columns:\n",
    "    print(valuecounts(df, col))\n",
    "    print(15*'*')"
   ]
  },
  {
   "cell_type": "code",
   "execution_count": 23,
   "id": "15278881-fde7-49e7-a524-9fa8fc099b95",
   "metadata": {},
   "outputs": [
    {
     "data": {
      "text/html": [
       "<div>\n",
       "<style scoped>\n",
       "    .dataframe tbody tr th:only-of-type {\n",
       "        vertical-align: middle;\n",
       "    }\n",
       "\n",
       "    .dataframe tbody tr th {\n",
       "        vertical-align: top;\n",
       "    }\n",
       "\n",
       "    .dataframe thead th {\n",
       "        text-align: right;\n",
       "    }\n",
       "</style>\n",
       "<table border=\"1\" class=\"dataframe\">\n",
       "  <thead>\n",
       "    <tr style=\"text-align: right;\">\n",
       "      <th></th>\n",
       "      <th>count</th>\n",
       "    </tr>\n",
       "    <tr>\n",
       "      <th>buying</th>\n",
       "      <th></th>\n",
       "    </tr>\n",
       "  </thead>\n",
       "  <tbody>\n",
       "    <tr>\n",
       "      <th>vhigh</th>\n",
       "      <td>432</td>\n",
       "    </tr>\n",
       "    <tr>\n",
       "      <th>high</th>\n",
       "      <td>432</td>\n",
       "    </tr>\n",
       "    <tr>\n",
       "      <th>med</th>\n",
       "      <td>432</td>\n",
       "    </tr>\n",
       "    <tr>\n",
       "      <th>low</th>\n",
       "      <td>432</td>\n",
       "    </tr>\n",
       "  </tbody>\n",
       "</table>\n",
       "</div>"
      ],
      "text/plain": [
       "        count\n",
       "buying       \n",
       "vhigh     432\n",
       "high      432\n",
       "med       432\n",
       "low       432"
      ]
     },
     "execution_count": 23,
     "metadata": {},
     "output_type": "execute_result"
    }
   ],
   "source": [
    "valuecounts(df,'buying')"
   ]
  },
  {
   "cell_type": "code",
   "execution_count": 90,
   "id": "5e7fc06d-6c5f-406f-ab6b-a0670a838e45",
   "metadata": {},
   "outputs": [],
   "source": [
    "encoders = {}\n",
    "for col in df.columns:\n",
    "    if df[col].dtype == 'object':\n",
    "        le= LabelEncoder()\n",
    "        df[col] = le.fit_transform(df[col])\n",
    "        encoders[col] = le"
   ]
  },
  {
   "cell_type": "markdown",
   "id": "bb632487-5e78-4674-9aff-67137a9488c1",
   "metadata": {},
   "source": [
    "# Data spliting"
   ]
  },
  {
   "cell_type": "code",
   "execution_count": 91,
   "id": "d0f75bf6-82b0-4765-8c86-271c17f33e8b",
   "metadata": {},
   "outputs": [],
   "source": [
    "X= df.drop(['class'], axis=1)\n",
    "y=df['class']\n",
    "#X.shape, y.shape\n",
    "X_train, X_test, y_train, y_test= train_test_split(X, y, train_size= 0.7, random_state= 42)"
   ]
  },
  {
   "cell_type": "code",
   "execution_count": 92,
   "id": "64f7c2f8-ec55-4335-a175-c971be2fa442",
   "metadata": {},
   "outputs": [],
   "source": [
    "# # standardization\n",
    "# scaler= StandardScaler()\n",
    "# X_train= scaler.fit_transform(X_train)\n",
    "# X_test= scaler.transform(X_test)"
   ]
  },
  {
   "cell_type": "code",
   "execution_count": 93,
   "id": "d2988af9-57a7-4fe7-8a21-2f9cd29a4d7a",
   "metadata": {},
   "outputs": [],
   "source": [
    "# Normalization\n",
    "scaler= MinMaxScaler()\n",
    "X_train= scaler.fit_transform(X_train)\n",
    "X_test= scaler.transform(X_test)"
   ]
  },
  {
   "cell_type": "markdown",
   "id": "ffd62d44-00bd-4a72-89c8-5808230087e0",
   "metadata": {
    "jp-MarkdownHeadingCollapsed": true
   },
   "source": [
    "# Modeling_ DecisionTreeClassifier"
   ]
  },
  {
   "cell_type": "code",
   "execution_count": 66,
   "id": "ad3906b2-c0a2-4933-b9c0-0080f95170bb",
   "metadata": {},
   "outputs": [
    {
     "name": "stdout",
     "output_type": "stream",
     "text": [
      "Confusion Matrix: [[111   5   1   1]\n",
      " [  1  17   0   1]\n",
      " [  4   0 354   0]\n",
      " [  3   2   0  19]]\n",
      "f1_score: 0.9653179190751445\n",
      "Classifiction_report:               precision    recall  f1-score   support\n",
      "\n",
      "         acc       0.93      0.94      0.94       118\n",
      "        good       0.71      0.89      0.79        19\n",
      "       unacc       1.00      0.99      0.99       358\n",
      "       vgood       0.90      0.79      0.84        24\n",
      "\n",
      "    accuracy                           0.97       519\n",
      "   macro avg       0.89      0.90      0.89       519\n",
      "weighted avg       0.97      0.97      0.97       519\n",
      "\n"
     ]
    }
   ],
   "source": [
    "model= DecisionTreeClassifier()\n",
    "model.fit(X_train, y_train)\n",
    "y_pred= model.predict(X_test)\n",
    "print(f'Confusion Matrix: {confusion_matrix(y_test, y_pred)}')\n",
    "print(f'f1_score: {f1_score(y_test, y_pred, average= \"micro\")}')\n",
    "print(f'Classifiction_report: {classification_report(y_test, y_pred, target_names= encoders[\"class\"].classes_)}')"
   ]
  },
  {
   "cell_type": "markdown",
   "id": "b3b1c950-6c32-4a05-9280-1aac8b90e77b",
   "metadata": {
    "jp-MarkdownHeadingCollapsed": true
   },
   "source": [
    "## Hyperparameters_ DecisionTreeClassifications"
   ]
  },
  {
   "cell_type": "code",
   "execution_count": 84,
   "id": "d17dfc98-228d-42f1-acf9-11a4e62069c4",
   "metadata": {},
   "outputs": [
    {
     "name": "stdout",
     "output_type": "stream",
     "text": [
      "{'splitter': 'random', 'random_state': 42, 'min_samples_split': 2, 'min_samples_leaf': 1, 'max_leaf_nodes': None, 'max_features': None, 'max_depth': None, 'criterion': 'entropy', 'class_weight': None}\n"
     ]
    },
    {
     "name": "stderr",
     "output_type": "stream",
     "text": [
      "C:\\Users\\ebsor\\anaconda3\\lib\\site-packages\\sklearn\\model_selection\\_validation.py:425: FitFailedWarning: \n",
      "105 fits failed out of a total of 500.\n",
      "The score on these train-test partitions for these parameters will be set to nan.\n",
      "If these failures are not expected, you can try to debug them by setting error_score='raise'.\n",
      "\n",
      "Below are more details about the failures:\n",
      "--------------------------------------------------------------------------------\n",
      "100 fits failed with the following error:\n",
      "Traceback (most recent call last):\n",
      "  File \"C:\\Users\\ebsor\\anaconda3\\lib\\site-packages\\sklearn\\model_selection\\_validation.py\", line 732, in _fit_and_score\n",
      "    estimator.fit(X_train, y_train, **fit_params)\n",
      "  File \"C:\\Users\\ebsor\\anaconda3\\lib\\site-packages\\sklearn\\base.py\", line 1144, in wrapper\n",
      "    estimator._validate_params()\n",
      "  File \"C:\\Users\\ebsor\\anaconda3\\lib\\site-packages\\sklearn\\base.py\", line 637, in _validate_params\n",
      "    validate_parameter_constraints(\n",
      "  File \"C:\\Users\\ebsor\\anaconda3\\lib\\site-packages\\sklearn\\utils\\_param_validation.py\", line 95, in validate_parameter_constraints\n",
      "    raise InvalidParameterError(\n",
      "sklearn.utils._param_validation.InvalidParameterError: The 'max_features' parameter of DecisionTreeClassifier must be an int in the range [1, inf), a float in the range (0.0, 1.0], a str among {'sqrt', 'log2'} or None. Got 'auto' instead.\n",
      "\n",
      "--------------------------------------------------------------------------------\n",
      "5 fits failed with the following error:\n",
      "Traceback (most recent call last):\n",
      "  File \"C:\\Users\\ebsor\\anaconda3\\lib\\site-packages\\sklearn\\model_selection\\_validation.py\", line 732, in _fit_and_score\n",
      "    estimator.fit(X_train, y_train, **fit_params)\n",
      "  File \"C:\\Users\\ebsor\\anaconda3\\lib\\site-packages\\sklearn\\base.py\", line 1144, in wrapper\n",
      "    estimator._validate_params()\n",
      "  File \"C:\\Users\\ebsor\\anaconda3\\lib\\site-packages\\sklearn\\base.py\", line 637, in _validate_params\n",
      "    validate_parameter_constraints(\n",
      "  File \"C:\\Users\\ebsor\\anaconda3\\lib\\site-packages\\sklearn\\utils\\_param_validation.py\", line 95, in validate_parameter_constraints\n",
      "    raise InvalidParameterError(\n",
      "sklearn.utils._param_validation.InvalidParameterError: The 'max_features' parameter of DecisionTreeClassifier must be an int in the range [1, inf), a float in the range (0.0, 1.0], a str among {'log2', 'sqrt'} or None. Got 'auto' instead.\n",
      "\n",
      "  warnings.warn(some_fits_failed_message, FitFailedWarning)\n",
      "C:\\Users\\ebsor\\anaconda3\\lib\\site-packages\\sklearn\\model_selection\\_search.py:976: UserWarning: One or more of the test scores are non-finite: [0.84696341        nan 0.77337197        nan 0.7038819  0.70549021\n",
      " 0.867652          nan 0.76427077 0.775018   0.64761839 0.88999691\n",
      "        nan 0.86765543 0.64927129        nan 0.70719111 0.67414698\n",
      " 0.73034532        nan 0.87098865 0.536007   0.78659511 0.77912966\n",
      " 0.7038819  0.7038819  0.79399198 0.72458763 0.83210795 0.73778677\n",
      "        nan 0.78910188 0.47148589 0.7609787  0.61700902 0.52357258\n",
      " 0.79652961 0.75436713 0.80562052        nan 0.47148589 0.58725352\n",
      " 0.81472172        nan        nan 0.80396077        nan        nan\n",
      " 0.76178115 0.7038819  0.72953945 0.74274545        nan 0.79817222\n",
      " 0.81635746 0.44666164        nan 0.80975961 0.65340352 0.71379925\n",
      " 0.67740818 0.61700902        nan 0.60709509 0.64601008 0.63776962\n",
      " 0.66752169        nan 0.77419499 0.79574089        nan 0.73366483\n",
      " 0.77337197 0.81058606 0.71460512 0.76178115        nan 0.66420219\n",
      " 0.77917081 0.84865059 0.74112685 0.55420596 0.73282809 0.80562052\n",
      "        nan 0.8097699  0.75351325 0.87841295 0.57246665        nan\n",
      " 0.96443195 0.4813861  0.71460512 0.44666164 0.69387538 0.88750729\n",
      "        nan 0.82629882 0.7535064  0.56826241]\n",
      "  warnings.warn(\n"
     ]
    }
   ],
   "source": [
    "\n",
    "model= DecisionTreeClassifier()\n",
    "param_distribution= {\n",
    "    'criterion': ['gini', 'entropy'],\n",
    "    'splitter': ['best', 'random'],\n",
    "    'max_depth': [None, 3, 5, 10],\n",
    "    'min_samples_split': [2, 5, 10 , 20],\n",
    "    'min_samples_leaf': [1, 5, 10, 20],\n",
    "    'max_features': [None, \"sqrt\", \"log2\", 0.5, 'auto'],\n",
    "    'random_state' : [None, 42],\n",
    "    'max_leaf_nodes': [None, 10, 50],\n",
    "    'class_weight' : [None, \"balanced\"]\n",
    "    \n",
    "}\n",
    "random_search= RandomizedSearchCV(model, param_distribution, n_iter= 100, cv= 5, random_state= 42,scoring='accuracy', n_jobs=-1)\n",
    "random_search.fit(X_train, y_train)\n",
    "print(random_search.best_params_)"
   ]
  },
  {
   "cell_type": "code",
   "execution_count": 83,
   "id": "f360f8b7-e0cc-48c4-8e7e-e5e905738635",
   "metadata": {},
   "outputs": [
    {
     "name": "stdout",
     "output_type": "stream",
     "text": [
      "Confusion Matrix: [[107  10   0   1]\n",
      " [  1  17   0   1]\n",
      " [  2   0 356   0]\n",
      " [  1   2   0  21]]\n",
      "f1_score: 0.9653179190751445\n",
      "Classifiction_report:               precision    recall  f1-score   support\n",
      "\n",
      "         acc       0.96      0.91      0.93       118\n",
      "        good       0.59      0.89      0.71        19\n",
      "       unacc       1.00      0.99      1.00       358\n",
      "       vgood       0.91      0.88      0.89        24\n",
      "\n",
      "    accuracy                           0.97       519\n",
      "   macro avg       0.87      0.92      0.88       519\n",
      "weighted avg       0.97      0.97      0.97       519\n",
      "\n"
     ]
    }
   ],
   "source": [
    "model= DecisionTreeClassifier(splitter= 'random',\n",
    "                            random_state= 42,\n",
    "                            min_samples_split= 2,\n",
    "                            min_samples_leaf= 1,\n",
    "                            max_leaf_nodes= None,\n",
    "                            max_features= None,\n",
    "                            max_depth= None,\n",
    "                            criterion= 'entropy',\n",
    "                            class_weight= None)\n",
    "model.fit(X_train, y_train)\n",
    "y_pred= model.predict(X_test)\n",
    "print(f'Confusion Matrix: {confusion_matrix(y_test, y_pred)}')\n",
    "print(f'f1_score: {f1_score(y_test, y_pred, average= \"micro\")}')\n",
    "print(f'Classifiction_report: {classification_report(y_test, y_pred, target_names= encoders[\"class\"].classes_)}')"
   ]
  },
  {
   "cell_type": "markdown",
   "id": "6dcd1d7f-58f6-4ab2-99ae-dcdf975344e3",
   "metadata": {
    "jp-MarkdownHeadingCollapsed": true
   },
   "source": [
    "# Modeling _ RandomForestClassifications"
   ]
  },
  {
   "cell_type": "code",
   "execution_count": 94,
   "id": "f64ec1d7-a164-43ec-b5bb-0d0e95b4bfef",
   "metadata": {},
   "outputs": [
    {
     "name": "stdout",
     "output_type": "stream",
     "text": [
      "Confusion Matrix: [[108   6   3   1]\n",
      " [  2  16   0   1]\n",
      " [  2   0 356   0]\n",
      " [  2   0   0  22]]\n",
      "f1_score: 0.9672447013487476\n",
      "Classifiction_report:               precision    recall  f1-score   support\n",
      "\n",
      "         acc       0.95      0.92      0.93       118\n",
      "        good       0.73      0.84      0.78        19\n",
      "       unacc       0.99      0.99      0.99       358\n",
      "       vgood       0.92      0.92      0.92        24\n",
      "\n",
      "    accuracy                           0.97       519\n",
      "   macro avg       0.90      0.92      0.91       519\n",
      "weighted avg       0.97      0.97      0.97       519\n",
      "\n"
     ]
    }
   ],
   "source": [
    "model= RandomForestClassifier()\n",
    "model.fit(X_train, y_train)\n",
    "y_pred= model.predict(X_test)\n",
    "print(f'Confusion Matrix: {confusion_matrix(y_test, y_pred)}')\n",
    "print(f'f1_score: {f1_score(y_test, y_pred, average= \"micro\")}')\n",
    "print(f'Classifiction_report: {classification_report(y_test, y_pred, target_names= encoders[\"class\"].classes_)}')"
   ]
  },
  {
   "cell_type": "markdown",
   "id": "3da5f75e-192d-4be1-970d-58a183e204f4",
   "metadata": {
    "jp-MarkdownHeadingCollapsed": true
   },
   "source": [
    "## Hyperparameters _ RandomForestClassifier"
   ]
  },
  {
   "cell_type": "code",
   "execution_count": 98,
   "id": "47907488-ae79-4f8d-a100-fde7882a2db5",
   "metadata": {},
   "outputs": [
    {
     "name": "stderr",
     "output_type": "stream",
     "text": [
      "C:\\Users\\ebsor\\anaconda3\\lib\\site-packages\\sklearn\\model_selection\\_validation.py:425: FitFailedWarning: \n",
      "150 fits failed out of a total of 500.\n",
      "The score on these train-test partitions for these parameters will be set to nan.\n",
      "If these failures are not expected, you can try to debug them by setting error_score='raise'.\n",
      "\n",
      "Below are more details about the failures:\n",
      "--------------------------------------------------------------------------------\n",
      "53 fits failed with the following error:\n",
      "Traceback (most recent call last):\n",
      "  File \"C:\\Users\\ebsor\\anaconda3\\lib\\site-packages\\sklearn\\model_selection\\_validation.py\", line 732, in _fit_and_score\n",
      "    estimator.fit(X_train, y_train, **fit_params)\n",
      "  File \"C:\\Users\\ebsor\\anaconda3\\lib\\site-packages\\sklearn\\base.py\", line 1144, in wrapper\n",
      "    estimator._validate_params()\n",
      "  File \"C:\\Users\\ebsor\\anaconda3\\lib\\site-packages\\sklearn\\base.py\", line 637, in _validate_params\n",
      "    validate_parameter_constraints(\n",
      "  File \"C:\\Users\\ebsor\\anaconda3\\lib\\site-packages\\sklearn\\utils\\_param_validation.py\", line 95, in validate_parameter_constraints\n",
      "    raise InvalidParameterError(\n",
      "sklearn.utils._param_validation.InvalidParameterError: The 'max_features' parameter of RandomForestClassifier must be an int in the range [1, inf), a float in the range (0.0, 1.0], a str among {'sqrt', 'log2'} or None. Got 'auto' instead.\n",
      "\n",
      "--------------------------------------------------------------------------------\n",
      "42 fits failed with the following error:\n",
      "Traceback (most recent call last):\n",
      "  File \"C:\\Users\\ebsor\\anaconda3\\lib\\site-packages\\sklearn\\model_selection\\_validation.py\", line 732, in _fit_and_score\n",
      "    estimator.fit(X_train, y_train, **fit_params)\n",
      "  File \"C:\\Users\\ebsor\\anaconda3\\lib\\site-packages\\sklearn\\base.py\", line 1144, in wrapper\n",
      "    estimator._validate_params()\n",
      "  File \"C:\\Users\\ebsor\\anaconda3\\lib\\site-packages\\sklearn\\base.py\", line 637, in _validate_params\n",
      "    validate_parameter_constraints(\n",
      "  File \"C:\\Users\\ebsor\\anaconda3\\lib\\site-packages\\sklearn\\utils\\_param_validation.py\", line 95, in validate_parameter_constraints\n",
      "    raise InvalidParameterError(\n",
      "sklearn.utils._param_validation.InvalidParameterError: The 'max_features' parameter of RandomForestClassifier must be an int in the range [1, inf), a float in the range (0.0, 1.0], a str among {'log2', 'sqrt'} or None. Got 'auto' instead.\n",
      "\n",
      "--------------------------------------------------------------------------------\n",
      "55 fits failed with the following error:\n",
      "Traceback (most recent call last):\n",
      "  File \"C:\\Users\\ebsor\\anaconda3\\lib\\site-packages\\sklearn\\model_selection\\_validation.py\", line 732, in _fit_and_score\n",
      "    estimator.fit(X_train, y_train, **fit_params)\n",
      "  File \"C:\\Users\\ebsor\\anaconda3\\lib\\site-packages\\sklearn\\base.py\", line 1151, in wrapper\n",
      "    return fit_method(estimator, *args, **kwargs)\n",
      "  File \"C:\\Users\\ebsor\\anaconda3\\lib\\site-packages\\sklearn\\ensemble\\_forest.py\", line 417, in fit\n",
      "    raise ValueError(\"Out of bag estimation only available if bootstrap=True\")\n",
      "ValueError: Out of bag estimation only available if bootstrap=True\n",
      "\n",
      "  warnings.warn(some_fits_failed_message, FitFailedWarning)\n",
      "C:\\Users\\ebsor\\anaconda3\\lib\\site-packages\\sklearn\\model_selection\\_search.py:976: UserWarning: One or more of the test scores are non-finite: [0.93714207 0.8974315         nan 0.93548232        nan        nan\n",
      " 0.89826823 0.90901547 0.87510031 0.88585439 0.87095779 0.83871952\n",
      "        nan 0.91066836 0.8511265         nan 0.93546861 0.83705977\n",
      " 0.85276911 0.947056   0.8709715         nan        nan        nan\n",
      " 0.8709715  0.80399163        nan 0.8709715  0.83871609 0.93629848\n",
      "        nan 0.80727341        nan        nan 0.94540997        nan\n",
      "        nan        nan 0.94127773 0.8197044  0.79902953        nan\n",
      " 0.87676006 0.82962176 0.8933027  0.87176709 0.83623333 0.8734337\n",
      " 0.8502932  0.80315833 0.83124721 0.81225267 0.9636055         nan\n",
      " 0.87179452 0.86353692        nan 0.86682898        nan 0.9437605\n",
      "        nan 0.88255547        nan 0.9296972         nan 0.84697027\n",
      " 0.73945681 0.90323034 0.87510031 0.83123007        nan 0.94872261\n",
      " 0.90405336 0.87757621 0.9743493         nan 0.88585439        nan\n",
      " 0.87263125        nan        nan 0.93052022        nan 0.93052022\n",
      " 0.90157745 0.82964919 0.79652275 0.90322348 0.97601591        nan\n",
      "        nan 0.73449813 0.81058949 0.84031412 0.88002812 0.84037584\n",
      " 0.9495422  0.88088543 0.92555811 0.87757964]\n",
      "  warnings.warn(\n"
     ]
    },
    {
     "name": "stdout",
     "output_type": "stream",
     "text": [
      "dest_parameters: {'random_state': 42, 'oob_score': False, 'n_jobs': None, 'n_estimators': 100, 'min_samples_split': 2, 'min_samples_leaf': 1, 'max_features': 0.5, 'max_depth': None, 'class_weight': 'balanced', 'bootstrap': False}\n"
     ]
    }
   ],
   "source": [
    "model= RandomForestClassifier()\n",
    "params={\n",
    "     'n_estimators': [10, 100, 200],\n",
    "    'max_depth': [None, 5, 10],\n",
    "    'min_samples_split': [2, 5, 10, 20],\n",
    "    'min_samples_leaf': [1, 5, 10, 20],\n",
    "    'max_features': [None, \"sqrt\", \"log2\", 0.5, 'auto'],\n",
    "    'bootstrap': [True, False],\n",
    "    'random_state': [42, None],\n",
    "    'n_jobs': [-1, None],\n",
    "    'class_weight': [None, \"balanced\"],\n",
    "    'oob_score': [True, False]  \n",
    "}\n",
    "random_search = RandomizedSearchCV(model, params, n_iter=100, cv= 5, n_jobs= -1,random_state= 42, scoring='accuracy')\n",
    "random_search.fit(X_train, y_train)\n",
    "print(f'dest_parameters: {random_search.best_params_}')\n",
    "print(f'dest_parameters: {random_search.best_params_}')"
   ]
  },
  {
   "cell_type": "code",
   "execution_count": 99,
   "id": "b3d36e13-9b01-440e-ac3d-7d888b5f5d1f",
   "metadata": {},
   "outputs": [
    {
     "name": "stdout",
     "output_type": "stream",
     "text": [
      "Confusion Matrix: [[110   6   1   1]\n",
      " [  2  16   0   1]\n",
      " [  2   0 356   0]\n",
      " [  1   0   0  23]]\n",
      "f1_score: 0.9730250481695568\n",
      "Classifiction_report:               precision    recall  f1-score   support\n",
      "\n",
      "         acc       0.96      0.93      0.94       118\n",
      "        good       0.73      0.84      0.78        19\n",
      "       unacc       1.00      0.99      1.00       358\n",
      "       vgood       0.92      0.96      0.94        24\n",
      "\n",
      "    accuracy                           0.97       519\n",
      "   macro avg       0.90      0.93      0.91       519\n",
      "weighted avg       0.97      0.97      0.97       519\n",
      "\n"
     ]
    }
   ],
   "source": [
    "model= RandomForestClassifier(\n",
    "n_estimators=100,           # More trees\n",
    "    max_depth=None,              # Limit tree depth\n",
    "    min_samples_split=2,       # Require more samples to split\n",
    "    min_samples_leaf=1,        # Require more samples at leaf\n",
    "    max_features= 0.5,       # Feature sampling\n",
    "    bootstrap=False,            # Bootstrap sampling\n",
    "    random_state=42,           # Reproducibility\n",
    "    n_jobs=None,                 # Use all cores\n",
    "    class_weight='balanced',   # Handle imbalanced classes\n",
    "    oob_score=False            # Out-of-bag scoring\n",
    ")\n",
    "model.fit(X_train, y_train)\n",
    "y_pred= model.predict(X_test)\n",
    "print(f'Confusion Matrix: {confusion_matrix(y_test, y_pred)}')\n",
    "print(f'f1_score: {f1_score(y_test, y_pred, average= \"micro\")}')\n",
    "print(f'Classifiction_report: {classification_report(y_test, y_pred, target_names= encoders[\"class\"].classes_)}')"
   ]
  },
  {
   "cell_type": "code",
   "execution_count": null,
   "id": "8187eb6c-01a1-4da1-82fc-018e1a689d43",
   "metadata": {},
   "outputs": [],
   "source": []
  }
 ],
 "metadata": {
  "kernelspec": {
   "display_name": "Python 3 (ipykernel)",
   "language": "python",
   "name": "python3"
  },
  "language_info": {
   "codemirror_mode": {
    "name": "ipython",
    "version": 3
   },
   "file_extension": ".py",
   "mimetype": "text/x-python",
   "name": "python",
   "nbconvert_exporter": "python",
   "pygments_lexer": "ipython3",
   "version": "3.9.17"
  }
 },
 "nbformat": 4,
 "nbformat_minor": 5
}
