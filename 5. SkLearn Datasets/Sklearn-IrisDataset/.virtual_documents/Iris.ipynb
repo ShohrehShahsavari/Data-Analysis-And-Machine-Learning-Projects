import pandas as pd
import numpy as np
from sklearn import datasets
import matplotlib.pyplot as plt
import seaborn as sns
from sklearn.linear_model import LogisticRegression
from sklearn.metrics import confusion_matrix, accuracy_score, recall_score, precision_score, f1_score, classification_report
from sklearn.model_selection import train_test_split





ds = datasets.load_iris()
ds.feature_names
df=pd.DataFrame(data = ds.data, columns= ds.feature_names)
df['target']= ds.target
df.info()


print(ds.DESCR)





X= ds.data
y= ds.target
X_train, X_test, y_train, y_test= train_test_split(X, y, train_size=0.7, random_state=42)

LRmodel= LogisticRegression()
LRmodel.fit(X_train, y_train)
y_pred= LRmodel.predict(X_test)
print(classification_report(y_test, y_pred))
print(f1_score(y_test, y_pred, average='micro'))





import pandas as pd
import numpy as np
from sklearn import datasets
import matplotlib.pyplot as plt
import seaborn as sns
from sklearn.linear_model import LogisticRegression
from sklearn.metrics import confusion_matrix, accuracy_score, recall_score, precision_score, f1_score, classification_report
from sklearn.model_selection import train_test_split


ds = datasets.load_iris()
# df=pd.DataFrame(data = ds.data, columns= ds.feature_names)
# df['target']= ds.target

df= pd.DataFrame(data= np.c_[ds['data'], ds['target']], columns= ds['feature_names'] + ['target'])

df.info()


X= ds.data
y= ds.target
X_train, X_test, y_train, y_test= train_test_split(X, y, train_size=0.2, random_state=42)

LRmodel= LogisticRegression()
LRmodel.fit(X_train, y_train)
y_pred= LRmodel.predict(X_test)
# print(classification_report(y_test, y_pred))
# print(f1_score(y_test, y_pred, average='micro'))
print(confusion_matrix(y_test, y_pred))





from sklearn.tree import DecisionTreeClassifier
from sklearn.metrics import confusion_matrix, accuracy_score, f1_score, classification_report


X= ds.data
y= ds.target

X_train, X_test, y_train, y_test = train_test_split(X, y, train_size= 0.6)

model= DecisionTreeClassifier()
model.fit(X_train, y_train)
y_pred= model.predict(X_test)
print(f'Confusion_matrix: {confusion_matrix(y_test, y_pred)}')
print(f'Accuracy_score: {accuracy_score(y_test, y_pred)}')
print(f'f1_score: {f1_score(y_test, y_pred, average="micro")}')
print(f'classification_ report: {classification_report(y_test, y_pred)}')
