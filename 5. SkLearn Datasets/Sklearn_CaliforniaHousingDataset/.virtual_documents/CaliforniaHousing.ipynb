from sklearn.datasets import fetch_california_housing, load_digits



ds= load_digits()
ds.data


california = fetch_california_housing()
print(california.DESCR)



