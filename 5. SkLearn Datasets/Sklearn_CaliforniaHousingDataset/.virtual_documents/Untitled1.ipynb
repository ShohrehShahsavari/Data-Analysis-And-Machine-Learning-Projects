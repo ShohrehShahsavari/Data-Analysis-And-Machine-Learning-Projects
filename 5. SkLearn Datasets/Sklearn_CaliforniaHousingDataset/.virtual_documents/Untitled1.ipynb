from sklearn.datasets import fetch_california_housing
housing = fetch_california_housing()
print(housing.data.shape, housing.target.shape)
print(housing.feature_names[0:6])



