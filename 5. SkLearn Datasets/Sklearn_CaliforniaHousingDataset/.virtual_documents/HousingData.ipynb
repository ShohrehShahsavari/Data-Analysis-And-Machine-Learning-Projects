import pandas as pd
import numpy as np
import matplotlib.pyplot as plt
import seaborn as sns
import sklearn
from sklearn.model_selection import train_test_split





df= pd.read_csv('E:/Python Projects/shohreh/Shohreh_GitHub_Repository/Data-Analysis-And-Machine-Learning-Projects/5. SkLearn Datasets/Sklearn_CaliforniaHousingDataset/housing.csv')
df.info()


df['ocean_proximity'].value_counts()


from sklearn.preprocessing import LabelEncoder

le= LabelEncoder()
df['ocean_proximity']= le.fit_transform(df['ocean_proximity'])
le.classes_


df.describe().T





df.hist(bins=50, figsize= (20,15))
plt.show()


numeric_columns= df.select_dtypes(include=['number']).columns
numeric_columns
ncols=3
nrows= round(len(numeric_columns) / ncols)
fig, axes=plt.subplots(nrows=nrows, ncols=ncols, figsize=(20,15))
fig.suptitle('Hist plot for all columns')
axes= axes.flatten()
for i , col in enumerate(numeric_columns):
    sns.histplot(df[col], bins=50, edgecolor='black', kde= True, ax= axes[i])

plt.tight_layout()
plt.show()


df.plot(kind= 'scatter', x='longitude' ,y='latitude', alpha=0.1, s=df["population"]/100, label="population", c="median_house_value", cmap=plt.get_cmap("jet"), colorbar=True)
plt.legend()





corr_matrix= df.corr()
corr_matrix['median_house_value'].sort_values()


# from Pandas.tools.plotting import scatter_matrix
from pandas.plotting import scatter_matrix
column=['median_house_value', 'median_income', 'housing_median_age', 'total_rooms']
scatter_matrix(df[column], figsize=(12,8))


df.plot(kind= 'scatter', y='median_house_value', x='median_income', alpha=0.1)


df['bedrooms_per_rooms']= df['total_bedrooms'] / df['total_rooms']
df['population_per_households']= df['population'] / df['households']
df['rooms_per_households']= df['total_rooms'] / df['households']
corr_matrix= df.corr()
corr_matrix['median_house_value'].sort_values()


# fill missing value for total_bedrooms

#df['total_bedrooms']= df['total_bedrooms'].fillna(df['total_bedrooms'].median())

df['total_bedrooms'] = df.groupby('total_rooms')['total_bedrooms'].transform(lambda x: x.fillna(x.median()))
df['total_bedrooms'] = df.groupby('median_house_value')['total_bedrooms'].transform(lambda x: x.fillna(x.median()))
df['total_bedrooms'] = df.groupby('ocean_proximity')['total_bedrooms'].transform(lambda x: x.fillna(x.median()))
df.info()


# fill missing value use Sklearn.impute
from sklearn.impute import SimpleImputer
imputer= SimpleImputer(strategy= 'median')
df['total_bedrooms'] = imputer.fit_transform(df[['total_bedrooms']])
df.info()

## fill missing value use Sklearn.impute for all dataset
#df=imputer.fit(df)





X= df.drop(columns=['median_house_value'], axis=1)
y= df['median_house_value']


X_train, X_test, y_train, y_test= train_test_split(X, y, train_size=.8, random_state=42)



