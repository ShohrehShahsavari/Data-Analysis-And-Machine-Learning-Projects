import pandas as pd
import numpy as np
import matplotlib.pyplot as plt
import seaborn as sns
import sklearn


from sklearn.datasets import fetch_california_housing
california = fetch_california_housing()
print(california.DESCR)


california.data



