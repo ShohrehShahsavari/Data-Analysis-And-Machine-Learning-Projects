from sklearn.datasets import load_digits
import pandas as pd
import numpy as np


ds= load_digits()


ds.feature_names


df= pd.DataFrame(ds.data, columns= ds.feature_names)
df['target'] = ds.target


df.info()


df.to_excel('Data_Digits.xlsx',index=False)


df.head()


pd.DataFrame(df.nunique(), columns= ['Number of unique values'])


def value_counts(df, column, n):
    return pd.DataFrame(df[column].value_counts(), columns= ['count']).head(n)


for col in df.columns:
    print(value_counts(df, col, 3))
    print(10*'*')


len(df.nunique())


columns_One_properties=[]
for i in range(len(df.nunique())):
    if df.nunique()[i] <= 1:
        columns_One_properties.append(df.columns[i])
print(columns_One_properties)
        
               


df.columns[32]



